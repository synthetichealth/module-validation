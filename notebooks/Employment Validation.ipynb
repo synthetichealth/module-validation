{
 "cells": [
  {
   "cell_type": "code",
   "execution_count": 1,
   "id": "e76cb4ca-8631-45e2-9a25-bdf940c74919",
   "metadata": {},
   "outputs": [],
   "source": [
    "import pandas as pd\n",
    "import numpy as np\n",
    "import datetime\n",
    "import seaborn"
   ]
  },
  {
   "cell_type": "code",
   "execution_count": 2,
   "id": "188ffe75-9317-4c67-bb55-362ae0ba88ac",
   "metadata": {},
   "outputs": [],
   "source": [
    "conditions = pd.read_csv(\"../data-set/conditions.zip\", compression='zip', \n",
    "                         dtype={'CODE': str}, parse_dates=['START', 'STOP'])\n",
    "patients = pd.read_csv(\"../data-set/patients.zip\", compression='zip',\n",
    "                      parse_dates=['BIRTHDATE', 'DEATHDATE'])"
   ]
  },
  {
   "cell_type": "code",
   "execution_count": 3,
   "id": "e85c5ca5-99bc-45d0-8cdd-3045afe0bcc8",
   "metadata": {},
   "outputs": [],
   "source": [
    "conditions['LENGTH'] = conditions.STOP - conditions.START"
   ]
  },
  {
   "cell_type": "markdown",
   "id": "de86a6f4-715c-45f0-8ae4-c86a59c323fe",
   "metadata": {},
   "source": [
    "A brief summary of different employment conditions for each individual"
   ]
  },
  {
   "cell_type": "code",
   "execution_count": 4,
   "id": "cfe37c41-afad-40e5-b6ff-e1c634cbd279",
   "metadata": {
    "tags": []
   },
   "outputs": [
    {
     "data": {
      "text/html": [
       "<div>\n",
       "<style scoped>\n",
       "    .dataframe tbody tr th:only-of-type {\n",
       "        vertical-align: middle;\n",
       "    }\n",
       "\n",
       "    .dataframe tbody tr th {\n",
       "        vertical-align: top;\n",
       "    }\n",
       "\n",
       "    .dataframe thead th {\n",
       "        text-align: right;\n",
       "    }\n",
       "</style>\n",
       "<table border=\"1\" class=\"dataframe\">\n",
       "  <thead>\n",
       "    <tr style=\"text-align: right;\">\n",
       "      <th>CODE</th>\n",
       "      <th>160903007</th>\n",
       "      <th>160904001</th>\n",
       "      <th>73438004</th>\n",
       "      <th>741062008</th>\n",
       "    </tr>\n",
       "    <tr>\n",
       "      <th>PATIENT</th>\n",
       "      <th></th>\n",
       "      <th></th>\n",
       "      <th></th>\n",
       "      <th></th>\n",
       "    </tr>\n",
       "  </thead>\n",
       "  <tbody>\n",
       "    <tr>\n",
       "      <th>00098f6f-9f2e-2c2c-0461-99750eaca295</th>\n",
       "      <td>2.0</td>\n",
       "      <td>NaN</td>\n",
       "      <td>2.0</td>\n",
       "      <td>NaN</td>\n",
       "    </tr>\n",
       "    <tr>\n",
       "      <th>000cd94c-9ce3-8f8e-10b2-e5523b6e22d6</th>\n",
       "      <td>1.0</td>\n",
       "      <td>1.0</td>\n",
       "      <td>1.0</td>\n",
       "      <td>NaN</td>\n",
       "    </tr>\n",
       "    <tr>\n",
       "      <th>000eb9f8-f23e-29a9-bf44-73cad4e842ad</th>\n",
       "      <td>NaN</td>\n",
       "      <td>1.0</td>\n",
       "      <td>1.0</td>\n",
       "      <td>NaN</td>\n",
       "    </tr>\n",
       "    <tr>\n",
       "      <th>001ac12a-1c96-4e88-756d-e6602dd795b9</th>\n",
       "      <td>1.0</td>\n",
       "      <td>1.0</td>\n",
       "      <td>2.0</td>\n",
       "      <td>1.0</td>\n",
       "    </tr>\n",
       "    <tr>\n",
       "      <th>0026bb69-c793-4626-38f8-869e3100d576</th>\n",
       "      <td>2.0</td>\n",
       "      <td>3.0</td>\n",
       "      <td>9.0</td>\n",
       "      <td>NaN</td>\n",
       "    </tr>\n",
       "    <tr>\n",
       "      <th>...</th>\n",
       "      <td>...</td>\n",
       "      <td>...</td>\n",
       "      <td>...</td>\n",
       "      <td>...</td>\n",
       "    </tr>\n",
       "    <tr>\n",
       "      <th>ffe3e229-8fce-acc5-e605-48a418a68e6e</th>\n",
       "      <td>4.0</td>\n",
       "      <td>NaN</td>\n",
       "      <td>3.0</td>\n",
       "      <td>NaN</td>\n",
       "    </tr>\n",
       "    <tr>\n",
       "      <th>ffe5ba32-2c4d-8fe9-6958-c6be4e34fd30</th>\n",
       "      <td>2.0</td>\n",
       "      <td>NaN</td>\n",
       "      <td>1.0</td>\n",
       "      <td>1.0</td>\n",
       "    </tr>\n",
       "    <tr>\n",
       "      <th>ffe886e6-775d-6684-7988-920458508dd1</th>\n",
       "      <td>7.0</td>\n",
       "      <td>5.0</td>\n",
       "      <td>4.0</td>\n",
       "      <td>NaN</td>\n",
       "    </tr>\n",
       "    <tr>\n",
       "      <th>fff4a40b-dcf5-9886-3a97-23a3a6ec392c</th>\n",
       "      <td>2.0</td>\n",
       "      <td>3.0</td>\n",
       "      <td>3.0</td>\n",
       "      <td>1.0</td>\n",
       "    </tr>\n",
       "    <tr>\n",
       "      <th>fffb3be5-5a06-01bc-490e-325daa59a161</th>\n",
       "      <td>1.0</td>\n",
       "      <td>1.0</td>\n",
       "      <td>1.0</td>\n",
       "      <td>NaN</td>\n",
       "    </tr>\n",
       "  </tbody>\n",
       "</table>\n",
       "<p>9472 rows × 4 columns</p>\n",
       "</div>"
      ],
      "text/plain": [
       "CODE                                  160903007  160904001  73438004  \\\n",
       "PATIENT                                                                \n",
       "00098f6f-9f2e-2c2c-0461-99750eaca295        2.0        NaN       2.0   \n",
       "000cd94c-9ce3-8f8e-10b2-e5523b6e22d6        1.0        1.0       1.0   \n",
       "000eb9f8-f23e-29a9-bf44-73cad4e842ad        NaN        1.0       1.0   \n",
       "001ac12a-1c96-4e88-756d-e6602dd795b9        1.0        1.0       2.0   \n",
       "0026bb69-c793-4626-38f8-869e3100d576        2.0        3.0       9.0   \n",
       "...                                         ...        ...       ...   \n",
       "ffe3e229-8fce-acc5-e605-48a418a68e6e        4.0        NaN       3.0   \n",
       "ffe5ba32-2c4d-8fe9-6958-c6be4e34fd30        2.0        NaN       1.0   \n",
       "ffe886e6-775d-6684-7988-920458508dd1        7.0        5.0       4.0   \n",
       "fff4a40b-dcf5-9886-3a97-23a3a6ec392c        2.0        3.0       3.0   \n",
       "fffb3be5-5a06-01bc-490e-325daa59a161        1.0        1.0       1.0   \n",
       "\n",
       "CODE                                  741062008  \n",
       "PATIENT                                          \n",
       "00098f6f-9f2e-2c2c-0461-99750eaca295        NaN  \n",
       "000cd94c-9ce3-8f8e-10b2-e5523b6e22d6        NaN  \n",
       "000eb9f8-f23e-29a9-bf44-73cad4e842ad        NaN  \n",
       "001ac12a-1c96-4e88-756d-e6602dd795b9        1.0  \n",
       "0026bb69-c793-4626-38f8-869e3100d576        NaN  \n",
       "...                                         ...  \n",
       "ffe3e229-8fce-acc5-e605-48a418a68e6e        NaN  \n",
       "ffe5ba32-2c4d-8fe9-6958-c6be4e34fd30        1.0  \n",
       "ffe886e6-775d-6684-7988-920458508dd1        NaN  \n",
       "fff4a40b-dcf5-9886-3a97-23a3a6ec392c        1.0  \n",
       "fffb3be5-5a06-01bc-490e-325daa59a161        NaN  \n",
       "\n",
       "[9472 rows x 4 columns]"
      ]
     },
     "execution_count": 4,
     "metadata": {},
     "output_type": "execute_result"
    }
   ],
   "source": [
    "employment = conditions[(conditions.CODE == '160903007') | (conditions.CODE == '741062008')\n",
    "                        | (conditions.CODE == '160904001') | (conditions.CODE == '73438004')]\n",
    "employment_count = pd.pivot_table(employment[['CODE', 'PATIENT']], columns=pd.Grouper(key=\"CODE\"), index=\"PATIENT\", aggfunc=len) \n",
    "employment_count"
   ]
  },
  {
   "cell_type": "markdown",
   "id": "49640cca-e176-4e79-a1b5-2b4dcaf35068",
   "metadata": {},
   "source": [
    "## Full Time Employment Info\n",
    "\n",
    "SNOMED 160903007"
   ]
  },
  {
   "cell_type": "code",
   "execution_count": 5,
   "id": "1c7e6670-b493-4f47-bf6b-e0e4ee4a9cfb",
   "metadata": {
    "tags": []
   },
   "outputs": [
    {
     "data": {
      "text/plain": [
       "3cf6c4af-e750-c78e-17f4-ab9a96458814    102\n",
       "65320659-2594-e11d-628c-f4c06510e4d9     99\n",
       "55be1f9e-e66a-1135-9547-c3e86eb22ead     99\n",
       "ee8458dc-5b37-60fa-cbc7-63807aa520c6     86\n",
       "cd174e24-9126-64aa-55b2-5a379555cfcc     84\n",
       "                                       ... \n",
       "2fc105bd-a45b-fff0-e416-bcece0d62e52      1\n",
       "bc74b4a2-c50e-52c4-71c0-7310b68a3d07      1\n",
       "852c06ba-2862-80f5-6505-d559ccbad118      1\n",
       "d7f787c3-f61b-eae3-8769-bd1b7c2ea961      1\n",
       "6478ceb5-c4f7-3857-5c6c-fb0f807dff63      1\n",
       "Name: PATIENT, Length: 9062, dtype: int64"
      ]
     },
     "execution_count": 5,
     "metadata": {},
     "output_type": "execute_result"
    }
   ],
   "source": [
    "conditions[conditions.CODE == '160903007'].PATIENT.value_counts()"
   ]
  },
  {
   "cell_type": "code",
   "execution_count": 6,
   "id": "d3575a78-d0b2-4d49-a1b3-c3795c31ceee",
   "metadata": {},
   "outputs": [
    {
     "data": {
      "text/plain": [
       "count                          44755\n",
       "mean     535 days 14:09:42.853312488\n",
       "std      633 days 10:36:56.465648864\n",
       "min                 13 days 00:00:00\n",
       "25%                119 days 00:00:00\n",
       "50%                371 days 00:00:00\n",
       "75%                742 days 00:00:00\n",
       "max               9086 days 00:00:00\n",
       "Name: LENGTH, dtype: object"
      ]
     },
     "execution_count": 6,
     "metadata": {},
     "output_type": "execute_result"
    }
   ],
   "source": [
    "conditions[conditions.CODE == '160903007'].LENGTH.describe()"
   ]
  },
  {
   "cell_type": "markdown",
   "id": "8d10fcba-88b9-4e10-8001-3adc93742fd3",
   "metadata": {},
   "source": [
    "## Part time employment\n",
    "\n",
    "SNOMED 160904001"
   ]
  },
  {
   "cell_type": "code",
   "execution_count": 7,
   "id": "8abdf65f-cce8-400e-8d45-fea56844662e",
   "metadata": {},
   "outputs": [
    {
     "data": {
      "text/plain": [
       "ee7c0f9e-0a77-3704-e82b-049cb44243f9    41\n",
       "5f7601d5-b735-81b9-c8d6-2cd9d947b53e    41\n",
       "e1ab410f-966c-bf08-208b-20c82eaaec6a    37\n",
       "88580343-3ff9-6f8f-6a1b-86a166bc5157    36\n",
       "e2f2635c-15df-082f-7e5a-4611bb86024f    35\n",
       "                                        ..\n",
       "422008f5-be0e-f44f-f2f5-d22870b6cde1     1\n",
       "6cd148f0-d0e2-3979-6ade-5216341f73ab     1\n",
       "5259d617-69bb-0548-420e-76495c9816c3     1\n",
       "ee637cab-f4a4-129b-0ad5-b444724ae0bb     1\n",
       "59c43e8f-e60a-c02c-7909-645a999808ba     1\n",
       "Name: PATIENT, Length: 6353, dtype: int64"
      ]
     },
     "execution_count": 7,
     "metadata": {},
     "output_type": "execute_result"
    }
   ],
   "source": [
    "conditions[conditions.CODE == '160904001'].PATIENT.value_counts()"
   ]
  },
  {
   "cell_type": "code",
   "execution_count": 8,
   "id": "d0c9965c-82ae-40c2-9ab8-09d01a609e0a",
   "metadata": {},
   "outputs": [
    {
     "data": {
      "text/plain": [
       "count                          15180\n",
       "mean     298 days 19:01:05.454545456\n",
       "std      335 days 05:36:44.518785556\n",
       "min                 13 days 00:00:00\n",
       "25%                 35 days 00:00:00\n",
       "50%                245 days 00:00:00\n",
       "75%                371 days 00:00:00\n",
       "max               3297 days 00:00:00\n",
       "Name: LENGTH, dtype: object"
      ]
     },
     "execution_count": 8,
     "metadata": {},
     "output_type": "execute_result"
    }
   ],
   "source": [
    "conditions[conditions.CODE == '160904001'].LENGTH.describe()"
   ]
  },
  {
   "cell_type": "markdown",
   "id": "d3a1e360-4cea-4b38-962f-5c97daeaff06",
   "metadata": {},
   "source": [
    "## Not in labor force\n",
    "\n",
    "SNOMED 741062008"
   ]
  },
  {
   "cell_type": "code",
   "execution_count": 9,
   "id": "564d96cb-3b5f-4b79-b74b-5284ae476a22",
   "metadata": {},
   "outputs": [
    {
     "data": {
      "text/plain": [
       "b97686e1-676a-ae68-551a-02c5b26a1afd    25\n",
       "bdb28728-0f01-e4ca-b743-ba555ff05b47    20\n",
       "3baac8bc-00cc-f1da-bcd9-0b0c04c9a7db    18\n",
       "b136d94a-3249-c68d-b46c-d56384baa817    17\n",
       "ee8458dc-5b37-60fa-cbc7-63807aa520c6    17\n",
       "                                        ..\n",
       "c0378345-dc5e-e822-86e9-e69b56c9029f     1\n",
       "408db693-e96d-fa1e-eb83-c9ed32667b2e     1\n",
       "356ce8c4-0c81-fbdf-8a26-e8cbccc7aa2f     1\n",
       "20d3a960-791b-810c-8f66-33d823dec0f8     1\n",
       "c77fcbcf-414f-44d1-0af8-32a82cc319d6     1\n",
       "Name: PATIENT, Length: 4438, dtype: int64"
      ]
     },
     "execution_count": 9,
     "metadata": {},
     "output_type": "execute_result"
    }
   ],
   "source": [
    "conditions[conditions.CODE == '741062008'].PATIENT.value_counts()"
   ]
  },
  {
   "cell_type": "code",
   "execution_count": 10,
   "id": "b1a3dbc6-3699-47cb-83f1-a8bb9276852d",
   "metadata": {},
   "outputs": [
    {
     "data": {
      "text/plain": [
       "count                           7750\n",
       "mean     266 days 06:37:48.696774192\n",
       "std      291 days 19:00:25.376373444\n",
       "min                 13 days 00:00:00\n",
       "25%                 28 days 00:00:00\n",
       "50%                196 days 00:00:00\n",
       "75%                371 days 00:00:00\n",
       "max               2205 days 00:00:00\n",
       "Name: LENGTH, dtype: object"
      ]
     },
     "execution_count": 10,
     "metadata": {},
     "output_type": "execute_result"
    }
   ],
   "source": [
    "conditions[conditions.CODE == '741062008'].LENGTH.describe()"
   ]
  },
  {
   "cell_type": "markdown",
   "id": "189d5349-01d3-4669-8375-588349025e79",
   "metadata": {},
   "source": [
    "## Unemployment\n",
    "\n",
    "SNOMED 73438004"
   ]
  },
  {
   "cell_type": "code",
   "execution_count": 11,
   "id": "1c79d8da-c485-4238-a44c-02b6a1c86771",
   "metadata": {},
   "outputs": [
    {
     "data": {
      "text/plain": [
       "1bfafda9-3fca-6085-8e32-3402cc035b75    69\n",
       "edaf7116-e3b0-c4bf-47d2-029c0fa64684    61\n",
       "d7e7d839-f4a1-50c6-14d0-2be44e7f6d80    61\n",
       "b3309860-0b28-753f-d879-16266c847868    58\n",
       "450fb760-07c7-6c1d-264d-42d0afcb20a8    51\n",
       "                                        ..\n",
       "7fbcfa8e-780d-ee1e-8ba5-5537f3aa1347     1\n",
       "5cd985fa-1aef-b80c-f9cc-abf81f18eb32     1\n",
       "9dff375c-be65-47c8-703f-1bedcd19679d     1\n",
       "e9ac8f62-2b05-40d2-4592-9d16ed41543d     1\n",
       "15d5d0c2-6ad2-533f-8597-b075c4eb85ba     1\n",
       "Name: PATIENT, Length: 9003, dtype: int64"
      ]
     },
     "execution_count": 11,
     "metadata": {},
     "output_type": "execute_result"
    }
   ],
   "source": [
    "conditions[conditions.CODE == '73438004'].PATIENT.value_counts()"
   ]
  },
  {
   "cell_type": "code",
   "execution_count": 12,
   "id": "95dc5058-79eb-4871-8e1e-3e37dd391a03",
   "metadata": {},
   "outputs": [
    {
     "data": {
      "text/plain": [
       "count                          41581\n",
       "mean     653 days 16:13:35.218489208\n",
       "std      695 days 11:55:04.370778104\n",
       "min                 13 days 00:00:00\n",
       "25%                267 days 00:00:00\n",
       "50%                371 days 00:00:00\n",
       "75%                742 days 00:00:00\n",
       "max               9086 days 00:00:00\n",
       "Name: LENGTH, dtype: object"
      ]
     },
     "execution_count": 12,
     "metadata": {},
     "output_type": "execute_result"
    }
   ],
   "source": [
    "conditions[conditions.CODE == '73438004'].LENGTH.describe()"
   ]
  },
  {
   "cell_type": "code",
   "execution_count": null,
   "id": "d110d51f-7bda-411f-84d0-c839a5516b2d",
   "metadata": {},
   "outputs": [],
   "source": []
  }
 ],
 "metadata": {
  "kernelspec": {
   "display_name": "Python 3 (ipykernel)",
   "language": "python",
   "name": "python3"
  },
  "language_info": {
   "codemirror_mode": {
    "name": "ipython",
    "version": 3
   },
   "file_extension": ".py",
   "mimetype": "text/x-python",
   "name": "python",
   "nbconvert_exporter": "python",
   "pygments_lexer": "ipython3",
   "version": "3.10.4"
  }
 },
 "nbformat": 4,
 "nbformat_minor": 5
}
