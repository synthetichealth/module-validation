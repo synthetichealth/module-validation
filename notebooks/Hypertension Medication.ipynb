{
 "cells": [
  {
   "cell_type": "code",
   "execution_count": 1,
   "metadata": {},
   "outputs": [],
   "source": [
    "%matplotlib inline\n",
    "import matplotlib.pyplot as plt\n",
    "import pandas as pd\n",
    "import numpy as np"
   ]
  },
  {
   "cell_type": "markdown",
   "metadata": {},
   "source": [
    "# This dataset contains 3095 patients with Hypertension"
   ]
  },
  {
   "cell_type": "code",
   "execution_count": 5,
   "metadata": {},
   "outputs": [],
   "source": [
    "data = pd.read_csv(\"../data/medications.zip\", compression='zip')\n"
   ]
  },
  {
   "cell_type": "code",
   "execution_count": 6,
   "metadata": {},
   "outputs": [],
   "source": [
    "types = data[['PATIENT', 'CODE', 'DESCRIPTION', 'ENCOUNTER']]"
   ]
  },
  {
   "cell_type": "code",
   "execution_count": 7,
   "metadata": {},
   "outputs": [],
   "source": [
    "category_group = types.groupby(['PATIENT', 'CODE'])"
   ]
  },
  {
   "cell_type": "code",
   "execution_count": 8,
   "metadata": {},
   "outputs": [],
   "source": [
    "medication_code = ['314076', '310798', '308136']"
   ]
  },
  {
   "cell_type": "code",
   "execution_count": 9,
   "metadata": {},
   "outputs": [
    {
     "data": {
      "text/html": [
       "<div>\n",
       "<style scoped>\n",
       "    .dataframe tbody tr th:only-of-type {\n",
       "        vertical-align: middle;\n",
       "    }\n",
       "\n",
       "    .dataframe tbody tr th {\n",
       "        vertical-align: top;\n",
       "    }\n",
       "\n",
       "    .dataframe thead th {\n",
       "        text-align: right;\n",
       "    }\n",
       "</style>\n",
       "<table border=\"1\" class=\"dataframe\">\n",
       "  <thead>\n",
       "    <tr style=\"text-align: right;\">\n",
       "      <th></th>\n",
       "      <th>index</th>\n",
       "      <th>Therapy Count</th>\n",
       "    </tr>\n",
       "  </thead>\n",
       "  <tbody>\n",
       "    <tr>\n",
       "      <th>0</th>\n",
       "      <td>00022a9e-d5ba-4aae-9656-faedd47f967d</td>\n",
       "      <td>50</td>\n",
       "    </tr>\n",
       "    <tr>\n",
       "      <th>1</th>\n",
       "      <td>000e3181-56f9-4cb7-a66e-53dff6ce74d2</td>\n",
       "      <td>75</td>\n",
       "    </tr>\n",
       "    <tr>\n",
       "      <th>2</th>\n",
       "      <td>0011b80e-1f33-40a0-b347-17c815ac05d6</td>\n",
       "      <td>57</td>\n",
       "    </tr>\n",
       "    <tr>\n",
       "      <th>3</th>\n",
       "      <td>002f1212-45d9-452d-9a2c-feba3430ae15</td>\n",
       "      <td>18</td>\n",
       "    </tr>\n",
       "    <tr>\n",
       "      <th>4</th>\n",
       "      <td>00469d4d-3abb-4731-8a96-811bf8e71e98</td>\n",
       "      <td>12</td>\n",
       "    </tr>\n",
       "    <tr>\n",
       "      <th>...</th>\n",
       "      <td>...</td>\n",
       "      <td>...</td>\n",
       "    </tr>\n",
       "    <tr>\n",
       "      <th>3090</th>\n",
       "      <td>ff7aae4c-317a-47f6-b6cc-e0903097ca97</td>\n",
       "      <td>86</td>\n",
       "    </tr>\n",
       "    <tr>\n",
       "      <th>3091</th>\n",
       "      <td>ffa72011-77de-40df-accf-b993213aa30d</td>\n",
       "      <td>4</td>\n",
       "    </tr>\n",
       "    <tr>\n",
       "      <th>3092</th>\n",
       "      <td>ffc84420-189d-4032-b9ea-1ad09c5744e0</td>\n",
       "      <td>90</td>\n",
       "    </tr>\n",
       "    <tr>\n",
       "      <th>3093</th>\n",
       "      <td>ffe7386b-59d1-47c3-9862-5b6a90fa1661</td>\n",
       "      <td>56</td>\n",
       "    </tr>\n",
       "    <tr>\n",
       "      <th>3094</th>\n",
       "      <td>fff29d24-68ae-4290-bed4-f204f4800a4b</td>\n",
       "      <td>28</td>\n",
       "    </tr>\n",
       "  </tbody>\n",
       "</table>\n",
       "<p>3095 rows × 2 columns</p>\n",
       "</div>"
      ],
      "text/plain": [
       "                                     index  Therapy Count\n",
       "0     00022a9e-d5ba-4aae-9656-faedd47f967d             50\n",
       "1     000e3181-56f9-4cb7-a66e-53dff6ce74d2             75\n",
       "2     0011b80e-1f33-40a0-b347-17c815ac05d6             57\n",
       "3     002f1212-45d9-452d-9a2c-feba3430ae15             18\n",
       "4     00469d4d-3abb-4731-8a96-811bf8e71e98             12\n",
       "...                                    ...            ...\n",
       "3090  ff7aae4c-317a-47f6-b6cc-e0903097ca97             86\n",
       "3091  ffa72011-77de-40df-accf-b993213aa30d              4\n",
       "3092  ffc84420-189d-4032-b9ea-1ad09c5744e0             90\n",
       "3093  ffe7386b-59d1-47c3-9862-5b6a90fa1661             56\n",
       "3094  fff29d24-68ae-4290-bed4-f204f4800a4b             28\n",
       "\n",
       "[3095 rows x 2 columns]"
      ]
     },
     "execution_count": 9,
     "metadata": {},
     "output_type": "execute_result"
    }
   ],
   "source": [
    "patient_list = data[data.CODE.isin(medication_code)]\n",
    "patient_dup = patient_list[['PATIENT', 'CODE', 'ENCOUNTER']].drop_duplicates(keep=False)\n",
    "patients = pd.DataFrame(patient_dup)\n",
    "group = patients.groupby([patients.PATIENT.tolist()],as_index=False).size().reset_index().\\\n",
    "    rename(columns={0:'Therapy Count'})\n",
    "group"
   ]
  },
  {
   "cell_type": "markdown",
   "metadata": {},
   "source": [
    "### The above number confirms that there are still 3095 patients who are on hypertension medication"
   ]
  },
  {
   "cell_type": "code",
   "execution_count": 10,
   "metadata": {},
   "outputs": [
    {
     "data": {
      "text/html": [
       "<div>\n",
       "<style scoped>\n",
       "    .dataframe tbody tr th:only-of-type {\n",
       "        vertical-align: middle;\n",
       "    }\n",
       "\n",
       "    .dataframe tbody tr th {\n",
       "        vertical-align: top;\n",
       "    }\n",
       "\n",
       "    .dataframe thead th {\n",
       "        text-align: right;\n",
       "    }\n",
       "</style>\n",
       "<table border=\"1\" class=\"dataframe\">\n",
       "  <thead>\n",
       "    <tr style=\"text-align: right;\">\n",
       "      <th></th>\n",
       "      <th>level_0</th>\n",
       "      <th>CODE</th>\n",
       "      <th>0</th>\n",
       "    </tr>\n",
       "  </thead>\n",
       "  <tbody>\n",
       "    <tr>\n",
       "      <th>0</th>\n",
       "      <td>00022a9e-d5ba-4aae-9656-faedd47f967d</td>\n",
       "      <td>308136</td>\n",
       "      <td>25</td>\n",
       "    </tr>\n",
       "    <tr>\n",
       "      <th>1</th>\n",
       "      <td>00022a9e-d5ba-4aae-9656-faedd47f967d</td>\n",
       "      <td>310798</td>\n",
       "      <td>25</td>\n",
       "    </tr>\n",
       "    <tr>\n",
       "      <th>2</th>\n",
       "      <td>000e3181-56f9-4cb7-a66e-53dff6ce74d2</td>\n",
       "      <td>310798</td>\n",
       "      <td>75</td>\n",
       "    </tr>\n",
       "    <tr>\n",
       "      <th>3</th>\n",
       "      <td>0011b80e-1f33-40a0-b347-17c815ac05d6</td>\n",
       "      <td>314076</td>\n",
       "      <td>57</td>\n",
       "    </tr>\n",
       "    <tr>\n",
       "      <th>4</th>\n",
       "      <td>002f1212-45d9-452d-9a2c-feba3430ae15</td>\n",
       "      <td>310798</td>\n",
       "      <td>9</td>\n",
       "    </tr>\n",
       "    <tr>\n",
       "      <th>...</th>\n",
       "      <td>...</td>\n",
       "      <td>...</td>\n",
       "      <td>...</td>\n",
       "    </tr>\n",
       "    <tr>\n",
       "      <th>5760</th>\n",
       "      <td>ffc84420-189d-4032-b9ea-1ad09c5744e0</td>\n",
       "      <td>310798</td>\n",
       "      <td>30</td>\n",
       "    </tr>\n",
       "    <tr>\n",
       "      <th>5761</th>\n",
       "      <td>ffc84420-189d-4032-b9ea-1ad09c5744e0</td>\n",
       "      <td>314076</td>\n",
       "      <td>30</td>\n",
       "    </tr>\n",
       "    <tr>\n",
       "      <th>5762</th>\n",
       "      <td>ffe7386b-59d1-47c3-9862-5b6a90fa1661</td>\n",
       "      <td>314076</td>\n",
       "      <td>56</td>\n",
       "    </tr>\n",
       "    <tr>\n",
       "      <th>5763</th>\n",
       "      <td>fff29d24-68ae-4290-bed4-f204f4800a4b</td>\n",
       "      <td>310798</td>\n",
       "      <td>14</td>\n",
       "    </tr>\n",
       "    <tr>\n",
       "      <th>5764</th>\n",
       "      <td>fff29d24-68ae-4290-bed4-f204f4800a4b</td>\n",
       "      <td>314076</td>\n",
       "      <td>14</td>\n",
       "    </tr>\n",
       "  </tbody>\n",
       "</table>\n",
       "<p>5765 rows × 3 columns</p>\n",
       "</div>"
      ],
      "text/plain": [
       "                                   level_0    CODE   0\n",
       "0     00022a9e-d5ba-4aae-9656-faedd47f967d  308136  25\n",
       "1     00022a9e-d5ba-4aae-9656-faedd47f967d  310798  25\n",
       "2     000e3181-56f9-4cb7-a66e-53dff6ce74d2  310798  75\n",
       "3     0011b80e-1f33-40a0-b347-17c815ac05d6  314076  57\n",
       "4     002f1212-45d9-452d-9a2c-feba3430ae15  310798   9\n",
       "...                                    ...     ...  ..\n",
       "5760  ffc84420-189d-4032-b9ea-1ad09c5744e0  310798  30\n",
       "5761  ffc84420-189d-4032-b9ea-1ad09c5744e0  314076  30\n",
       "5762  ffe7386b-59d1-47c3-9862-5b6a90fa1661  314076  56\n",
       "5763  fff29d24-68ae-4290-bed4-f204f4800a4b  310798  14\n",
       "5764  fff29d24-68ae-4290-bed4-f204f4800a4b  314076  14\n",
       "\n",
       "[5765 rows x 3 columns]"
      ]
     },
     "execution_count": 10,
     "metadata": {},
     "output_type": "execute_result"
    }
   ],
   "source": [
    "medication_list = patients.groupby([patients.PATIENT.tolist(), 'CODE'],as_index=False).size().reset_index()\n",
    "medication_list"
   ]
  },
  {
   "cell_type": "code",
   "execution_count": 11,
   "metadata": {},
   "outputs": [],
   "source": [
    "therapy = medication_list.groupby(medication_list.level_0.tolist(),as_index=False).size().reset_index().\\\n",
    "    rename(columns={0:'records'})"
   ]
  },
  {
   "cell_type": "code",
   "execution_count": 12,
   "metadata": {},
   "outputs": [
    {
     "data": {
      "text/plain": [
       "2    1186\n",
       "1    1167\n",
       "3     742\n",
       "Name: records, dtype: int64"
      ]
     },
     "execution_count": 12,
     "metadata": {},
     "output_type": "execute_result"
    }
   ],
   "source": [
    "num_therapy = therapy['records'].value_counts()\n",
    "label_therapy = ['Dual-', 'Mono-', 'Tri-']\n",
    "num_therapy"
   ]
  },
  {
   "cell_type": "code",
   "execution_count": 13,
   "metadata": {},
   "outputs": [
    {
     "data": {
      "text/plain": [
       "3095"
      ]
     },
     "execution_count": 13,
     "metadata": {},
     "output_type": "execute_result"
    }
   ],
   "source": [
    "num_therapy.sum()"
   ]
  },
  {
   "cell_type": "code",
   "execution_count": 14,
   "metadata": {},
   "outputs": [
    {
     "data": {
      "text/plain": [
       "Text(0.5, 1.0, 'Therapy')"
      ]
     },
     "execution_count": 14,
     "metadata": {},
     "output_type": "execute_result"
    },
    {
     "data": {
      "image/png": "[encoded data removed]",
      "text/plain": [
       "<Figure size 432x288 with 1 Axes>"
      ]
     },
     "metadata": {},
     "output_type": "display_data"
    }
   ],
   "source": [
    "fig, ax = plt.subplots()\n",
    "ax.pie(num_therapy, labels=label_therapy, autopct='%1.1f%%')\n",
    "ax.axis('equal')\n",
    "ax.set_title('Therapy')"
   ]
  },
  {
   "cell_type": "markdown",
   "metadata": {},
   "source": [
    "# This dataset contains 3253 patients"
   ]
  },
  {
   "cell_type": "code",
   "execution_count": 16,
   "metadata": {},
   "outputs": [],
   "source": [
    "data2 = pd.read_csv(\"../data/medications2.zip\", compression='zip')"
   ]
  },
  {
   "cell_type": "code",
   "execution_count": 17,
   "metadata": {},
   "outputs": [],
   "source": [
    "types2 = data2[['PATIENT', 'CODE', 'DESCRIPTION', 'ENCOUNTER']]"
   ]
  },
  {
   "cell_type": "code",
   "execution_count": 18,
   "metadata": {},
   "outputs": [],
   "source": [
    "medication_code2 = ['314076', '310798', '308136']"
   ]
  },
  {
   "cell_type": "code",
   "execution_count": 19,
   "metadata": {},
   "outputs": [
    {
     "data": {
      "text/html": [
       "<div>\n",
       "<style scoped>\n",
       "    .dataframe tbody tr th:only-of-type {\n",
       "        vertical-align: middle;\n",
       "    }\n",
       "\n",
       "    .dataframe tbody tr th {\n",
       "        vertical-align: top;\n",
       "    }\n",
       "\n",
       "    .dataframe thead th {\n",
       "        text-align: right;\n",
       "    }\n",
       "</style>\n",
       "<table border=\"1\" class=\"dataframe\">\n",
       "  <thead>\n",
       "    <tr style=\"text-align: right;\">\n",
       "      <th></th>\n",
       "      <th>index</th>\n",
       "      <th>Therapy Count</th>\n",
       "    </tr>\n",
       "  </thead>\n",
       "  <tbody>\n",
       "    <tr>\n",
       "      <th>0</th>\n",
       "      <td>001c1d08-e3a2-4fad-809f-56a1dfd2d51e</td>\n",
       "      <td>37</td>\n",
       "    </tr>\n",
       "    <tr>\n",
       "      <th>1</th>\n",
       "      <td>00504e2a-2c82-4bf1-9ffc-de57411723b3</td>\n",
       "      <td>381</td>\n",
       "    </tr>\n",
       "    <tr>\n",
       "      <th>2</th>\n",
       "      <td>0050ebad-8114-4fe0-b2ed-91928e7c0232</td>\n",
       "      <td>60</td>\n",
       "    </tr>\n",
       "    <tr>\n",
       "      <th>3</th>\n",
       "      <td>00586d27-152d-46eb-a1be-27a034566fd5</td>\n",
       "      <td>29</td>\n",
       "    </tr>\n",
       "    <tr>\n",
       "      <th>4</th>\n",
       "      <td>0063ef81-28d3-4257-9ab3-5309e8e4ff52</td>\n",
       "      <td>87</td>\n",
       "    </tr>\n",
       "    <tr>\n",
       "      <th>...</th>\n",
       "      <td>...</td>\n",
       "      <td>...</td>\n",
       "    </tr>\n",
       "    <tr>\n",
       "      <th>3248</th>\n",
       "      <td>ffc0703c-308e-490d-8d59-536e44c67300</td>\n",
       "      <td>120</td>\n",
       "    </tr>\n",
       "    <tr>\n",
       "      <th>3249</th>\n",
       "      <td>ffc40ed1-b96c-4841-945d-7bf740539618</td>\n",
       "      <td>24</td>\n",
       "    </tr>\n",
       "    <tr>\n",
       "      <th>3250</th>\n",
       "      <td>ffd02a75-4cb5-40dc-bd52-778977d6f701</td>\n",
       "      <td>77</td>\n",
       "    </tr>\n",
       "    <tr>\n",
       "      <th>3251</th>\n",
       "      <td>ffe25ab2-729e-4b08-a6e3-9745aff8a7a3</td>\n",
       "      <td>127</td>\n",
       "    </tr>\n",
       "    <tr>\n",
       "      <th>3252</th>\n",
       "      <td>ffeaa8eb-7d1d-41b4-88a0-870ffb3a6e66</td>\n",
       "      <td>18</td>\n",
       "    </tr>\n",
       "  </tbody>\n",
       "</table>\n",
       "<p>3253 rows × 2 columns</p>\n",
       "</div>"
      ],
      "text/plain": [
       "                                     index  Therapy Count\n",
       "0     001c1d08-e3a2-4fad-809f-56a1dfd2d51e             37\n",
       "1     00504e2a-2c82-4bf1-9ffc-de57411723b3            381\n",
       "2     0050ebad-8114-4fe0-b2ed-91928e7c0232             60\n",
       "3     00586d27-152d-46eb-a1be-27a034566fd5             29\n",
       "4     0063ef81-28d3-4257-9ab3-5309e8e4ff52             87\n",
       "...                                    ...            ...\n",
       "3248  ffc0703c-308e-490d-8d59-536e44c67300            120\n",
       "3249  ffc40ed1-b96c-4841-945d-7bf740539618             24\n",
       "3250  ffd02a75-4cb5-40dc-bd52-778977d6f701             77\n",
       "3251  ffe25ab2-729e-4b08-a6e3-9745aff8a7a3            127\n",
       "3252  ffeaa8eb-7d1d-41b4-88a0-870ffb3a6e66             18\n",
       "\n",
       "[3253 rows x 2 columns]"
      ]
     },
     "execution_count": 19,
     "metadata": {},
     "output_type": "execute_result"
    }
   ],
   "source": [
    "patient_list2 = data2[data2.CODE.isin(medication_code2)]\n",
    "patient_dup2 = patient_list2[['PATIENT', 'CODE', 'ENCOUNTER']].drop_duplicates(keep=False)\n",
    "patients2 = pd.DataFrame(patient_dup2)\n",
    "group2 = patients2.groupby([patients2.PATIENT.tolist()],as_index=False).size().reset_index().\\\n",
    "    rename(columns={0:'Therapy Count'})\n",
    "group2"
   ]
  },
  {
   "cell_type": "code",
   "execution_count": 20,
   "metadata": {},
   "outputs": [
    {
     "data": {
      "text/html": [
       "<div>\n",
       "<style scoped>\n",
       "    .dataframe tbody tr th:only-of-type {\n",
       "        vertical-align: middle;\n",
       "    }\n",
       "\n",
       "    .dataframe tbody tr th {\n",
       "        vertical-align: top;\n",
       "    }\n",
       "\n",
       "    .dataframe thead th {\n",
       "        text-align: right;\n",
       "    }\n",
       "</style>\n",
       "<table border=\"1\" class=\"dataframe\">\n",
       "  <thead>\n",
       "    <tr style=\"text-align: right;\">\n",
       "      <th></th>\n",
       "      <th>level_0</th>\n",
       "      <th>CODE</th>\n",
       "      <th>0</th>\n",
       "    </tr>\n",
       "  </thead>\n",
       "  <tbody>\n",
       "    <tr>\n",
       "      <th>0</th>\n",
       "      <td>001c1d08-e3a2-4fad-809f-56a1dfd2d51e</td>\n",
       "      <td>310798</td>\n",
       "      <td>37</td>\n",
       "    </tr>\n",
       "    <tr>\n",
       "      <th>1</th>\n",
       "      <td>00504e2a-2c82-4bf1-9ffc-de57411723b3</td>\n",
       "      <td>314076</td>\n",
       "      <td>381</td>\n",
       "    </tr>\n",
       "    <tr>\n",
       "      <th>2</th>\n",
       "      <td>0050ebad-8114-4fe0-b2ed-91928e7c0232</td>\n",
       "      <td>310798</td>\n",
       "      <td>60</td>\n",
       "    </tr>\n",
       "    <tr>\n",
       "      <th>3</th>\n",
       "      <td>00586d27-152d-46eb-a1be-27a034566fd5</td>\n",
       "      <td>308136</td>\n",
       "      <td>29</td>\n",
       "    </tr>\n",
       "    <tr>\n",
       "      <th>4</th>\n",
       "      <td>0063ef81-28d3-4257-9ab3-5309e8e4ff52</td>\n",
       "      <td>308136</td>\n",
       "      <td>29</td>\n",
       "    </tr>\n",
       "    <tr>\n",
       "      <th>...</th>\n",
       "      <td>...</td>\n",
       "      <td>...</td>\n",
       "      <td>...</td>\n",
       "    </tr>\n",
       "    <tr>\n",
       "      <th>6054</th>\n",
       "      <td>ffc40ed1-b96c-4841-945d-7bf740539618</td>\n",
       "      <td>308136</td>\n",
       "      <td>12</td>\n",
       "    </tr>\n",
       "    <tr>\n",
       "      <th>6055</th>\n",
       "      <td>ffc40ed1-b96c-4841-945d-7bf740539618</td>\n",
       "      <td>314076</td>\n",
       "      <td>12</td>\n",
       "    </tr>\n",
       "    <tr>\n",
       "      <th>6056</th>\n",
       "      <td>ffd02a75-4cb5-40dc-bd52-778977d6f701</td>\n",
       "      <td>308136</td>\n",
       "      <td>77</td>\n",
       "    </tr>\n",
       "    <tr>\n",
       "      <th>6057</th>\n",
       "      <td>ffe25ab2-729e-4b08-a6e3-9745aff8a7a3</td>\n",
       "      <td>310798</td>\n",
       "      <td>127</td>\n",
       "    </tr>\n",
       "    <tr>\n",
       "      <th>6058</th>\n",
       "      <td>ffeaa8eb-7d1d-41b4-88a0-870ffb3a6e66</td>\n",
       "      <td>310798</td>\n",
       "      <td>18</td>\n",
       "    </tr>\n",
       "  </tbody>\n",
       "</table>\n",
       "<p>6059 rows × 3 columns</p>\n",
       "</div>"
      ],
      "text/plain": [
       "                                   level_0    CODE    0\n",
       "0     001c1d08-e3a2-4fad-809f-56a1dfd2d51e  310798   37\n",
       "1     00504e2a-2c82-4bf1-9ffc-de57411723b3  314076  381\n",
       "2     0050ebad-8114-4fe0-b2ed-91928e7c0232  310798   60\n",
       "3     00586d27-152d-46eb-a1be-27a034566fd5  308136   29\n",
       "4     0063ef81-28d3-4257-9ab3-5309e8e4ff52  308136   29\n",
       "...                                    ...     ...  ...\n",
       "6054  ffc40ed1-b96c-4841-945d-7bf740539618  308136   12\n",
       "6055  ffc40ed1-b96c-4841-945d-7bf740539618  314076   12\n",
       "6056  ffd02a75-4cb5-40dc-bd52-778977d6f701  308136   77\n",
       "6057  ffe25ab2-729e-4b08-a6e3-9745aff8a7a3  310798  127\n",
       "6058  ffeaa8eb-7d1d-41b4-88a0-870ffb3a6e66  310798   18\n",
       "\n",
       "[6059 rows x 3 columns]"
      ]
     },
     "execution_count": 20,
     "metadata": {},
     "output_type": "execute_result"
    }
   ],
   "source": [
    "medication_list2 = patients2.groupby([patients2.PATIENT.tolist(), 'CODE'],as_index=False).size().reset_index()\n",
    "medication_list2"
   ]
  },
  {
   "cell_type": "code",
   "execution_count": 21,
   "metadata": {},
   "outputs": [],
   "source": [
    "therapy2 = medication_list2.groupby(medication_list2.level_0.tolist(),as_index=False).size().reset_index().\\\n",
    "    rename(columns={0:'records'})"
   ]
  },
  {
   "cell_type": "code",
   "execution_count": 22,
   "metadata": {},
   "outputs": [
    {
     "data": {
      "text/plain": [
       "2    1282\n",
       "1    1209\n",
       "3     762\n",
       "Name: records, dtype: int64"
      ]
     },
     "execution_count": 22,
     "metadata": {},
     "output_type": "execute_result"
    }
   ],
   "source": [
    "num_therapy2 = therapy2['records'].value_counts()\n",
    "label_therapy2 = ['Dual-', 'Mono-', 'Tri-']\n",
    "num_therapy2"
   ]
  },
  {
   "cell_type": "code",
   "execution_count": 23,
   "metadata": {},
   "outputs": [
    {
     "data": {
      "text/plain": [
       "3253"
      ]
     },
     "execution_count": 23,
     "metadata": {},
     "output_type": "execute_result"
    }
   ],
   "source": [
    "num_therapy2.sum()"
   ]
  },
  {
   "cell_type": "code",
   "execution_count": 24,
   "metadata": {},
   "outputs": [
    {
     "data": {
      "text/plain": [
       "Text(0.5, 1.0, 'Therapy')"
      ]
     },
     "execution_count": 24,
     "metadata": {},
     "output_type": "execute_result"
    },
    {
     "data": {
      "image/png": "[encoded data removed]",
      "text/plain": [
       "<Figure size 432x288 with 1 Axes>"
      ]
     },
     "metadata": {},
     "output_type": "display_data"
    }
   ],
   "source": [
    "fig, ax = plt.subplots()\n",
    "ax.pie(num_therapy2, labels=label_therapy2, autopct='%1.1f%%')\n",
    "ax.axis('equal')\n",
    "ax.set_title('Therapy')"
   ]
  },
  {
   "cell_type": "code",
   "execution_count": null,
   "metadata": {},
   "outputs": [],
   "source": []
  }
 ],
 "metadata": {
  "kernelspec": {
   "display_name": "Python 3",
   "language": "python",
   "name": "python3"
  },
  "language_info": {
   "codemirror_mode": {
    "name": "ipython",
    "version": 3
   },
   "file_extension": ".py",
   "mimetype": "text/x-python",
   "name": "python",
   "nbconvert_exporter": "python",
   "pygments_lexer": "ipython3",
   "version": "3.7.6"
  }
 },
 "nbformat": 4,
 "nbformat_minor": 4
}
