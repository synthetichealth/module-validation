{
 "cells": [
  {
   "cell_type": "code",
   "execution_count": 93,
   "metadata": {},
   "outputs": [],
   "source": [
    "%matplotlib inline\n",
    "import matplotlib.pyplot as plt\n",
    "import pandas as pd\n",
    "import numpy as np"
   ]
  },
  {
   "cell_type": "code",
   "execution_count": 94,
   "metadata": {},
   "outputs": [],
   "source": [
    "data = pd.read_csv('pregnancy.csv')"
   ]
  },
  {
   "cell_type": "code",
   "execution_count": 95,
   "metadata": {
    "scrolled": true
   },
   "outputs": [],
   "source": [
    "types = data[['START', 'STOP', 'PATIENT','DESCRIPTION']]"
   ]
  },
  {
   "cell_type": "markdown",
   "metadata": {},
   "source": [
    "# Overall Analysis"
   ]
  },
  {
   "cell_type": "markdown",
   "metadata": {},
   "source": [
    "##Patient Group"
   ]
  },
  {
   "cell_type": "markdown",
   "metadata": {},
   "source": [
    "Groups paitients by their IDs to identify those who have had multiple pregnancies/admittance. This could be used later on to track them through each pregnancy to see if their is a decline in pregnancy viability or complications."
   ]
  },
  {
   "cell_type": "code",
   "execution_count": 96,
   "metadata": {},
   "outputs": [
    {
     "data": {
      "text/plain": [
       "PATIENT\n",
       "0026142d-1610-4bc0-aad7-684d29312c5d    1\n",
       "00dbcfc7-e747-4fc8-a20e-50ff166f96d9    1\n",
       "01dce375-fd8a-4aaa-aabf-10333e59eb67    1\n",
       "026fdf27-c5f2-4d32-9329-87e35e66c0fe    1\n",
       "03e31380-5595-48f2-a287-94aef7058841    1\n",
       "                                       ..\n",
       "f90ec860-c96c-4ec3-b5c4-f32acaf12578    6\n",
       "fd3052da-cdef-4587-927d-813f738905c6    1\n",
       "feb88e55-d119-4989-ae73-e7296cc114fd    1\n",
       "feb9cbe3-9da6-4347-bb85-bde3f2857f09    1\n",
       "feeb8169-4d85-40d9-b527-1770eba6c719    4\n",
       "Length: 344, dtype: int64"
      ]
     },
     "execution_count": 96,
     "metadata": {},
     "output_type": "execute_result"
    }
   ],
   "source": [
    "patient_group = types.groupby('PATIENT')\n",
    "patient_group.size()"
   ]
  },
  {
   "cell_type": "markdown",
   "metadata": {},
   "source": [
    "Extension of previous data set with DESCRIPTION included to better see the multiple entries are because of multiple entries or because of change in status during the admittance period."
   ]
  },
  {
   "cell_type": "code",
   "execution_count": 97,
   "metadata": {},
   "outputs": [
    {
     "data": {
      "text/html": [
       "<div>\n",
       "<style scoped>\n",
       "    .dataframe tbody tr th:only-of-type {\n",
       "        vertical-align: middle;\n",
       "    }\n",
       "\n",
       "    .dataframe tbody tr th {\n",
       "        vertical-align: top;\n",
       "    }\n",
       "\n",
       "    .dataframe thead th {\n",
       "        text-align: right;\n",
       "    }\n",
       "</style>\n",
       "<table border=\"1\" class=\"dataframe\">\n",
       "  <thead>\n",
       "    <tr style=\"text-align: right;\">\n",
       "      <th></th>\n",
       "      <th>START</th>\n",
       "      <th>STOP</th>\n",
       "      <th>PATIENT</th>\n",
       "      <th>DESCRIPTION</th>\n",
       "    </tr>\n",
       "  </thead>\n",
       "  <tbody>\n",
       "    <tr>\n",
       "      <th>0</th>\n",
       "      <td>7/8/18</td>\n",
       "      <td>7/15/18</td>\n",
       "      <td>6cc368f9-1030-4934-a437-8befdb6e1db5</td>\n",
       "      <td>Normal pregnancy</td>\n",
       "    </tr>\n",
       "    <tr>\n",
       "      <th>1</th>\n",
       "      <td>7/8/18</td>\n",
       "      <td>NaN</td>\n",
       "      <td>6cc368f9-1030-4934-a437-8befdb6e1db5</td>\n",
       "      <td>Miscarriage in first trimester</td>\n",
       "    </tr>\n",
       "    <tr>\n",
       "      <th>2</th>\n",
       "      <td>7/8/18</td>\n",
       "      <td>7/15/18</td>\n",
       "      <td>6cc368f9-1030-4934-a437-8befdb6e1db5</td>\n",
       "      <td>Blighted ovum</td>\n",
       "    </tr>\n",
       "    <tr>\n",
       "      <th>3</th>\n",
       "      <td>10/13/11</td>\n",
       "      <td>10/27/11</td>\n",
       "      <td>c2919994-f65d-49a0-b17d-6b3a5b2274da</td>\n",
       "      <td>Normal pregnancy</td>\n",
       "    </tr>\n",
       "    <tr>\n",
       "      <th>4</th>\n",
       "      <td>10/13/11</td>\n",
       "      <td>NaN</td>\n",
       "      <td>c2919994-f65d-49a0-b17d-6b3a5b2274da</td>\n",
       "      <td>Miscarriage in first trimester</td>\n",
       "    </tr>\n",
       "    <tr>\n",
       "      <th>...</th>\n",
       "      <td>...</td>\n",
       "      <td>...</td>\n",
       "      <td>...</td>\n",
       "      <td>...</td>\n",
       "    </tr>\n",
       "    <tr>\n",
       "      <th>872</th>\n",
       "      <td>3/13/38</td>\n",
       "      <td>NaN</td>\n",
       "      <td>1045043a-ed0c-4e9a-adcd-cd9534c072cb</td>\n",
       "      <td>Miscarriage in first trimester</td>\n",
       "    </tr>\n",
       "    <tr>\n",
       "      <th>873</th>\n",
       "      <td>11/7/37</td>\n",
       "      <td>NaN</td>\n",
       "      <td>48828c01-d233-4586-b5b6-b9a30593b774</td>\n",
       "      <td>Miscarriage in first trimester</td>\n",
       "    </tr>\n",
       "    <tr>\n",
       "      <th>874</th>\n",
       "      <td>4/21/70</td>\n",
       "      <td>NaN</td>\n",
       "      <td>7558e1a0-ced0-41b1-952f-876eda3e7164</td>\n",
       "      <td>Miscarriage in first trimester</td>\n",
       "    </tr>\n",
       "    <tr>\n",
       "      <th>875</th>\n",
       "      <td>4/23/74</td>\n",
       "      <td>NaN</td>\n",
       "      <td>b945b1f8-36a4-4795-840e-59018f6f0170</td>\n",
       "      <td>Miscarriage in first trimester</td>\n",
       "    </tr>\n",
       "    <tr>\n",
       "      <th>876</th>\n",
       "      <td>10/31/67</td>\n",
       "      <td>NaN</td>\n",
       "      <td>8683eeb7-c9ff-4a64-996c-5dcad700d11d</td>\n",
       "      <td>Miscarriage in first trimester</td>\n",
       "    </tr>\n",
       "  </tbody>\n",
       "</table>\n",
       "<p>849 rows × 4 columns</p>\n",
       "</div>"
      ],
      "text/plain": [
       "        START      STOP                               PATIENT  \\\n",
       "0      7/8/18   7/15/18  6cc368f9-1030-4934-a437-8befdb6e1db5   \n",
       "1      7/8/18       NaN  6cc368f9-1030-4934-a437-8befdb6e1db5   \n",
       "2      7/8/18   7/15/18  6cc368f9-1030-4934-a437-8befdb6e1db5   \n",
       "3    10/13/11  10/27/11  c2919994-f65d-49a0-b17d-6b3a5b2274da   \n",
       "4    10/13/11       NaN  c2919994-f65d-49a0-b17d-6b3a5b2274da   \n",
       "..        ...       ...                                   ...   \n",
       "872   3/13/38       NaN  1045043a-ed0c-4e9a-adcd-cd9534c072cb   \n",
       "873   11/7/37       NaN  48828c01-d233-4586-b5b6-b9a30593b774   \n",
       "874   4/21/70       NaN  7558e1a0-ced0-41b1-952f-876eda3e7164   \n",
       "875   4/23/74       NaN  b945b1f8-36a4-4795-840e-59018f6f0170   \n",
       "876  10/31/67       NaN  8683eeb7-c9ff-4a64-996c-5dcad700d11d   \n",
       "\n",
       "                        DESCRIPTION  \n",
       "0                  Normal pregnancy  \n",
       "1    Miscarriage in first trimester  \n",
       "2                     Blighted ovum  \n",
       "3                  Normal pregnancy  \n",
       "4    Miscarriage in first trimester  \n",
       "..                              ...  \n",
       "872  Miscarriage in first trimester  \n",
       "873  Miscarriage in first trimester  \n",
       "874  Miscarriage in first trimester  \n",
       "875  Miscarriage in first trimester  \n",
       "876  Miscarriage in first trimester  \n",
       "\n",
       "[849 rows x 4 columns]"
      ]
     },
     "execution_count": 97,
     "metadata": {},
     "output_type": "execute_result"
    }
   ],
   "source": [
    "category_group = types.groupby(['PATIENT', 'DESCRIPTION'])\n",
    "category_group.head()"
   ]
  },
  {
   "cell_type": "markdown",
   "metadata": {},
   "source": [
    "Can be used to see if there is a trend in pregnancy types during years or months."
   ]
  },
  {
   "cell_type": "code",
   "execution_count": 98,
   "metadata": {},
   "outputs": [],
   "source": [
    "types = data['DESCRIPTION'].value_counts().keys()\n",
    "numbers = data['DESCRIPTION'].value_counts()"
   ]
  },
  {
   "cell_type": "code",
   "execution_count": 99,
   "metadata": {},
   "outputs": [
    {
     "data": {
      "text/html": [
       "<div>\n",
       "<style scoped>\n",
       "    .dataframe tbody tr th:only-of-type {\n",
       "        vertical-align: middle;\n",
       "    }\n",
       "\n",
       "    .dataframe tbody tr th {\n",
       "        vertical-align: top;\n",
       "    }\n",
       "\n",
       "    .dataframe thead th {\n",
       "        text-align: right;\n",
       "    }\n",
       "</style>\n",
       "<table border=\"1\" class=\"dataframe\">\n",
       "  <thead>\n",
       "    <tr style=\"text-align: right;\">\n",
       "      <th></th>\n",
       "      <th>DESCRIPTION</th>\n",
       "      <th>START</th>\n",
       "    </tr>\n",
       "  </thead>\n",
       "  <tbody>\n",
       "    <tr>\n",
       "      <th>0</th>\n",
       "      <td>Normal pregnancy</td>\n",
       "      <td>7/8/18</td>\n",
       "    </tr>\n",
       "    <tr>\n",
       "      <th>1</th>\n",
       "      <td>Miscarriage in first trimester</td>\n",
       "      <td>7/8/18</td>\n",
       "    </tr>\n",
       "    <tr>\n",
       "      <th>2</th>\n",
       "      <td>Blighted ovum</td>\n",
       "      <td>7/8/18</td>\n",
       "    </tr>\n",
       "    <tr>\n",
       "      <th>3</th>\n",
       "      <td>Normal pregnancy</td>\n",
       "      <td>10/13/11</td>\n",
       "    </tr>\n",
       "    <tr>\n",
       "      <th>4</th>\n",
       "      <td>Miscarriage in first trimester</td>\n",
       "      <td>10/13/11</td>\n",
       "    </tr>\n",
       "  </tbody>\n",
       "</table>\n",
       "</div>"
      ],
      "text/plain": [
       "                      DESCRIPTION     START\n",
       "0                Normal pregnancy    7/8/18\n",
       "1  Miscarriage in first trimester    7/8/18\n",
       "2                   Blighted ovum    7/8/18\n",
       "3                Normal pregnancy  10/13/11\n",
       "4  Miscarriage in first trimester  10/13/11"
      ]
     },
     "execution_count": 99,
     "metadata": {},
     "output_type": "execute_result"
    }
   ],
   "source": [
    "pregnancy_patterns = data[['DESCRIPTION', 'START']]\n",
    "pregnancy_patterns.head()"
   ]
  },
  {
   "cell_type": "markdown",
   "metadata": {},
   "source": [
    "## Pregnancy Distributions by Type"
   ]
  },
  {
   "cell_type": "code",
   "execution_count": 100,
   "metadata": {},
   "outputs": [
    {
     "data": {
      "image/png": "[encoded data removed]",
      "text/plain": [
       "<Figure size 432x288 with 1 Axes>"
      ]
     },
     "metadata": {
      "needs_background": "light"
     },
     "output_type": "display_data"
    }
   ],
   "source": [
    "plt.title(\"Types of Pregnancies\")\n",
    "plt.ylabel(\"Number of Pregnancies\")\n",
    "plt.xlabel(\"Pregnancy Descriptions\")\n",
    "plt.bar(types, numbers, color='bgrcmyk')\n",
    "plt.xticks(rotation=90)\n",
    "plt.show()\n"
   ]
  },
  {
   "cell_type": "code",
   "execution_count": 101,
   "metadata": {},
   "outputs": [
    {
     "data": {
      "text/plain": [
       "Text(0.5, 1.0, 'Types of Pregnancies')"
      ]
     },
     "execution_count": 101,
     "metadata": {},
     "output_type": "execute_result"
    },
    {
     "data": {
      "image/png": "[encoded data removed]",
      "text/plain": [
       "<Figure size 432x288 with 1 Axes>"
      ]
     },
     "metadata": {},
     "output_type": "display_data"
    }
   ],
   "source": [
    "explode = (0.05, 0.1, 0.1, 0.1, 0.1, 0.1, 0.1, 0.1)\n",
    "\n",
    "fig, ax = plt.subplots()\n",
    "ax.pie(numbers, explode = explode, labels=types, autopct='%1.1f%%')\n",
    "ax.axis('equal')\n",
    "ax.set_title('Types of Pregnancies')"
   ]
  },
  {
   "cell_type": "markdown",
   "metadata": {},
   "source": [
    "## Pregnancy Distributions by Year"
   ]
  },
  {
   "cell_type": "markdown",
   "metadata": {},
   "source": [
    "## Pregnancy Distribution by Age"
   ]
  },
  {
   "cell_type": "markdown",
   "metadata": {},
   "source": [
    "## LifeCycle of Pregnancies"
   ]
  },
  {
   "cell_type": "code",
   "execution_count": null,
   "metadata": {},
   "outputs": [],
   "source": []
  }
 ],
 "metadata": {
  "kernelspec": {
   "display_name": "Python 3",
   "language": "python",
   "name": "python3"
  },
  "language_info": {
   "codemirror_mode": {
    "name": "ipython",
    "version": 3
   },
   "file_extension": ".py",
   "mimetype": "text/x-python",
   "name": "python",
   "nbconvert_exporter": "python",
   "pygments_lexer": "ipython3",
   "version": "3.7.6"
  }
 },
 "nbformat": 4,
 "nbformat_minor": 4
}
