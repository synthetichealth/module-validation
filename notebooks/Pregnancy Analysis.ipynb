{
 "cells": [
  {
   "cell_type": "code",
   "execution_count": 16,
   "metadata": {},
   "outputs": [],
   "source": [
    "import pandas as pd\n",
    "import numpy as np\n",
    "import matplotlib.pyplot as plt\n",
    "from datetime import datetime, date"
   ]
  },
  {
   "cell_type": "code",
   "execution_count": 17,
   "metadata": {},
   "outputs": [],
   "source": [
    "patient_data = pd.read_csv('/Users/scarrillo/IdeaProjects/synthea/output/csv/patients.csv', usecols=['Id', 'GENDER'])\n",
    "agedata_DataFrame = pd.read_csv('/Users/scarrillo/IdeaProjects/synthea/output/csv/patients.csv', usecols= ['Id', 'BIRTHDATE'])\n",
    "conditions_data = pd.read_csv('/Users/scarrillo/IdeaProjects/synthea/output/csv/conditions.csv', usecols =['START', 'PATIENT', 'CODE', 'DESCRIPTION'])\n",
    "\n",
    "condition_types = conditions_data[[\"PATIENT\"]]\n",
    "ageID_df = agedata_DataFrame[[\"Id\"]]\n",
    "\n",
    "condition_date = conditions_data[[\"START\"]]\n",
    "birth_dates = agedata_DataFrame[[\"BIRTHDATE\"]]"
   ]
  },
  {
   "cell_type": "markdown",
   "metadata": {},
   "source": [
    "# Pregnancy by patient\n",
    "Number of pregnancies per person.\n",
    "These codes include a multitude of different outcomes."
   ]
  },
  {
   "cell_type": "code",
   "execution_count": 18,
   "metadata": {
    "pycharm": {
     "name": "#%%\n"
    },
    "scrolled": true
   },
   "outputs": [
    {
     "name": "stdout",
     "output_type": "stream",
     "text": [
      "             START                               PATIENT       CODE  \\\n",
      "9       1998-06-07  9d4348c2-c1cd-dd9e-fee0-398bfdc47754   72892002   \n",
      "24      2000-10-01  9d4348c2-c1cd-dd9e-fee0-398bfdc47754   72892002   \n",
      "38      2021-03-04  ed06c446-d29c-31b4-963d-be641291ba69   72892002   \n",
      "40      2004-09-05  9d4348c2-c1cd-dd9e-fee0-398bfdc47754   72892002   \n",
      "41      2004-09-05  9d4348c2-c1cd-dd9e-fee0-398bfdc47754   19169002   \n",
      "...            ...                                   ...        ...   \n",
      "152767  2016-06-06  29d8ea25-d11d-aaa9-4271-b75fb32c0b96   72892002   \n",
      "152937  2003-02-08  9fcba264-371a-cfe2-a594-f9c8ec008bba   72892002   \n",
      "152938  2003-08-23  9fcba264-371a-cfe2-a594-f9c8ec008bba  198992004   \n",
      "152971  1981-01-06  743f0785-3094-0cda-a7e6-830b5e9cc4c6   19169002   \n",
      "153001  2006-10-28  1d0ee4bf-b1f7-5153-1063-941f62c54211   19169002   \n",
      "\n",
      "                           DESCRIPTION  \n",
      "9                     Normal pregnancy  \n",
      "24                    Normal pregnancy  \n",
      "38                    Normal pregnancy  \n",
      "40                    Normal pregnancy  \n",
      "41      Miscarriage in first trimester  \n",
      "...                                ...  \n",
      "152767                Normal pregnancy  \n",
      "152937                Normal pregnancy  \n",
      "152938            Antepartum eclampsia  \n",
      "152971  Miscarriage in first trimester  \n",
      "153001  Miscarriage in first trimester  \n",
      "\n",
      "[6596 rows x 4 columns]\n"
     ]
    }
   ],
   "source": [
    "pregnancy_codes = [72892002, 47200007, 19169002, 35999006, 79586000, 156073000, 198992004, 398254007]\n",
    "pregnancies = conditions_data[conditions_data.CODE.isin(pregnancy_codes)]\n",
    "\n",
    "pregnancy_group = pregnancies.groupby('PATIENT', sort=True)\n",
    "print(pregnancies)"
   ]
  },
  {
   "cell_type": "markdown",
   "metadata": {},
   "source": [
    "## Grab year of pregnancy event and year of birth to get age of patient at time of pregnancy event"
   ]
  },
  {
   "cell_type": "code",
   "execution_count": 19,
   "metadata": {
    "pycharm": {
     "name": "#%%\n"
    }
   },
   "outputs": [],
   "source": [
    "pregnancyYears = pregnancies['START'].array # from pregnancies <- conditions.csv\n",
    "birthYears = birth_dates['BIRTHDATE'].array # from patients.csv\n",
    "pregnancyIds = pregnancies['PATIENT'].array # from pregnancies <- conditions.csv\n",
    "ageIDs = ageID_df['Id'].array\n",
    "\n",
    "#truncate year from date string and cast to int for age calculation\n",
    "for i, d in enumerate(pregnancyYears):\n",
    "    pregnancyYears[i] = int(d[0:4])\n",
    "\n",
    "for i, j in enumerate(birthYears):\n",
    "    birthYears[i] = int(j[0:4])\n",
    "\n",
    "# print(pregnancyYear)\n",
    "# print(birthYears)\n",
    "\n",
    "#grab index of ageIDs after matching to pregnancyIds, this is the index in birthyears array\n",
    "#and take the value of the birthYears index and subtract it from the value of pregnancyYears index\n",
    "ages = [0] * len(pregnancies) #create empty array of approximate size we need, to hold the ages.\n",
    "\n",
    "p = 0 #index in patients.csv\n",
    "c = 0 #index in conditions.csv\n",
    "\n",
    "for i in ageIDs:\n",
    "    for j in pregnancyIds:\n",
    "         if i == j:\n",
    "             ages[c] = pregnancyYears[c] - birthYears[p]\n",
    "             c += 1\n",
    "             #print(i)\n",
    "\n",
    "    p += 1\n",
    "\n",
    "#print(ages)\n",
    "\n"
   ]
  },
  {
   "cell_type": "markdown",
   "metadata": {
    "pycharm": {
     "name": "#%% md\n"
    }
   },
   "source": [
    "# Pregnancy totals by age\n",
    "Totals by age"
   ]
  },
  {
   "cell_type": "code",
   "execution_count": 21,
   "metadata": {
    "pycharm": {
     "name": "#%%\n"
    }
   },
   "outputs": [
    {
     "name": "stdout",
     "output_type": "stream",
     "text": [
      "[<=20]: 832\n",
      "[<=25]: 1633\n",
      "[<=30]: 946\n",
      "[<=35]: 781\n",
      "[<=40]: 653\n",
      "[<=45]: 863\n",
      "[45+]: 888\n",
      "Pregnancies: \n",
      "6596\n",
      "Total number of patients (deceased + living): \n",
      "11945\n"
     ]
    }
   ],
   "source": [
    "# count of age ranges\n",
    "pregnancies_20 = 0\n",
    "pregnancies_25 = 0\n",
    "pregnancies_30 = 0\n",
    "pregnancies_35 = 0\n",
    "pregnancies_40 = 0\n",
    "pregnancies_45 = 0\n",
    "pregnancies_45_plus = 0\n",
    "\n",
    "for a in ages:\n",
    "    if a <= 20:\n",
    "        pregnancies_20 += 1\n",
    "    elif a <= 25:\n",
    "        pregnancies_25 += 1\n",
    "    elif a <= 30:\n",
    "        pregnancies_30 += 1\n",
    "    elif a <= 35:\n",
    "        pregnancies_35 += 1\n",
    "    elif a <= 40:\n",
    "        pregnancies_40 += 1\n",
    "    elif a<= 45:\n",
    "        pregnancies_45 += 1\n",
    "    else:\n",
    "        pregnancies_45_plus += 1\n",
    "\n",
    "print(\"[<=20]: \" + str(pregnancies_20))\n",
    "print(\"[<=25]: \" + str(pregnancies_25))\n",
    "print(\"[<=30]: \" + str(pregnancies_30))\n",
    "print(\"[<=35]: \" + str(pregnancies_35))\n",
    "print(\"[<=40]: \" + str(pregnancies_40))\n",
    "print(\"[<=45]: \" + str(pregnancies_45))\n",
    "print(\"[45+]: \" + str(pregnancies_45_plus))\n",
    "\n",
    "print(\"Pregnancies: \")\n",
    "print(len(pregnancyIds))\n",
    "print(\"Total number of patients (deceased + living): \")\n",
    "print(len(ageIDs))\n"
   ]
  },
  {
   "cell_type": "markdown",
   "metadata": {
    "pycharm": {
     "name": "#%% md\n"
    }
   },
   "source": [
    "Pregnancies by age bar graph"
   ]
  },
  {
   "cell_type": "code",
   "execution_count": 13,
   "metadata": {
    "pycharm": {
     "name": "#%%\n"
    }
   },
   "outputs": [
    {
     "data": {
      "image/png": "[encoded data removed]",
      "text/plain": [
       "<Figure size 432x288 with 1 Axes>"
      ]
     },
     "metadata": {
      "needs_background": "light"
     },
     "output_type": "display_data"
    }
   ],
   "source": [
    "# https://matplotlib.org/stable/gallery/lines_bars_and_markers/barchart.html#sphx-glr-gallery-lines-bars-and-markers-barchart-py\n",
    "\n",
    "xAxisLabels = ['<= 20', '<= 25', '<= 30', '<= 35', '<= 40', '<= 45', '45 +']\n",
    "ages_of_women = [pregnancies_20, pregnancies_25, pregnancies_30, pregnancies_35, pregnancies_40, pregnancies_45,pregnancies_45_plus]\n",
    "\n",
    "x = np.arange(len(xAxisLabels))  # the label locations\n",
    "width = 0.35  # the width of the bars\n",
    "\n",
    "fig, ax = plt.subplots()\n",
    "rects1 = ax.bar(x - width/2, ages_of_women, width)\n",
    "\n",
    "# Add some text for labels, title and custom x-axis tick labels, etc.\n",
    "ax.set_ylabel('Number of pregnancies per population')\n",
    "ax.set_title('Pregnancies by Age')\n",
    "ax.set_xticks(x)\n",
    "ax.set_xticklabels(xAxisLabels)\n",
    "\n",
    "\n",
    "def autolabel(rects):\n",
    "    \"\"\"Attach a text label above each bar in *rects*, displaying its height.\"\"\"\n",
    "    for rect in rects:\n",
    "        height = rect.get_height()\n",
    "        ax.annotate('{}'.format(height),\n",
    "                    xy=(rect.get_x() + rect.get_width() / 2, height),\n",
    "                    xytext=(0, 3),  # 3 points vertical offset\n",
    "                    textcoords=\"offset points\",\n",
    "                    ha='center', va='bottom')\n",
    "\n",
    "\n",
    "autolabel(rects1)\n",
    "fig.tight_layout()\n",
    "plt.show()"
   ]
  },
  {
   "cell_type": "code",
   "execution_count": 14,
   "metadata": {
    "pycharm": {
     "name": "#%%\n"
    }
   },
   "outputs": [
    {
     "name": "stderr",
     "output_type": "stream",
     "text": [
      "<ipython-input-14-dbf732e04888>:7: MatplotlibDeprecationWarning: Using a string of single character colors as a color sequence is deprecated since 3.2 and will be removed two minor releases later. Use an explicit list instead.\n",
      "  plt.bar(pregnancy_types, pregnancy_numbers, color='bgrcmyk')\n"
     ]
    },
    {
     "data": {
      "image/png": "[encoded data removed]",
      "text/plain": [
       "<Figure size 432x288 with 1 Axes>"
      ]
     },
     "metadata": {
      "needs_background": "light"
     },
     "output_type": "display_data"
    }
   ],
   "source": [
    "pregnancy_types = pregnancies['DESCRIPTION'].value_counts().keys()\n",
    "pregnancy_numbers = pregnancies['DESCRIPTION'].value_counts()\n",
    "\n",
    "plt.title(\"Types of Pregnancies\")\n",
    "plt.ylabel(\"Number of Pregnancies\")\n",
    "plt.xlabel(\"Pregnancy Descriptions\")\n",
    "plt.bar(pregnancy_types, pregnancy_numbers, color='bgrcmyk')\n",
    "plt.xticks(rotation=90)\n",
    "plt.show()\n"
   ]
  },
  {
   "cell_type": "code",
   "execution_count": null,
   "metadata": {
    "pycharm": {
     "name": "#%%\n"
    }
   },
   "outputs": [],
   "source": []
  }
 ],
 "metadata": {
  "kernelspec": {
   "display_name": "Python 3",
   "language": "python",
   "name": "python3"
  },
  "language_info": {
   "codemirror_mode": {
    "name": "ipython",
    "version": 3
   },
   "file_extension": ".py",
   "mimetype": "text/x-python",
   "name": "python",
   "nbconvert_exporter": "python",
   "pygments_lexer": "ipython3",
   "version": "3.8.5"
  }
 },
 "nbformat": 4,
 "nbformat_minor": 5
}