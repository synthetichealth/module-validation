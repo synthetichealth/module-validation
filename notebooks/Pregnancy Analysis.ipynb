{
 "cells": [
  {
   "cell_type": "code",
   "execution_count": 136,
   "metadata": {},
   "outputs": [
    {
     "name": "stdout",
     "output_type": "stream",
     "text": [
      "/Users/scarrillo/PycharmProjects/module-validation/notebooks/../pregnancy-data-set/patients.csv\n"
     ]
    }
   ],
   "source": [
    "import pandas as pd\n",
    "import numpy as np\n",
    "import matplotlib.pyplot as plt\n",
    "import os\n",
    "\n",
    "current_path = os.getcwd()\n",
    "patient_path = os.path.join(current_path, \"../pregnancy-data-set/patients.csv\")\n",
    "condition_path = os.path.join(current_path,\"../pregnancy-data-set/conditions.csv\")"
   ]
  },
  {
   "cell_type": "code",
   "execution_count": 137,
   "metadata": {},
   "outputs": [],
   "source": [
    "patient_data = pd.read_csv(patient_path, usecols=['Id', 'GENDER'])\n",
    "age_data = pd.read_csv(patient_path, usecols= ['Id', 'BIRTHDATE'])\n",
    "conditions_data = pd.read_csv(condition_path, usecols =['START', 'PATIENT', 'CODE', 'DESCRIPTION'])\n",
    "\n",
    "condition_date = conditions_data[[\"START\"]]\n",
    "birth_dates = age_data[[\"BIRTHDATE\", \"Id\"]]"
   ]
  },
  {
   "cell_type": "markdown",
   "metadata": {},
   "source": [
    "# Calculate Pregnancy DataFrame and copy to clipboard\n",
    "Run the following cell to copy the 'pregnancies' dataframe to your clipboard (to paste into excel)"
   ]
  },
  {
   "cell_type": "code",
   "execution_count": 138,
   "metadata": {
    "pycharm": {
     "name": "#%%\n"
    },
    "scrolled": true
   },
   "outputs": [],
   "source": [
    "pregnancy_codes = [72892002, 47200007, 19169002, 35999006, 79586000, 156073000, 198992004, 398254007]\n",
    "pregnancies = conditions_data[conditions_data.CODE.isin(pregnancy_codes)]\n",
    "pregnancies.to_clipboard(excel=True)\n"
   ]
  },
  {
   "cell_type": "markdown",
   "metadata": {},
   "source": [
    "## Grab year of pregnancy event and year of birth to get age of patient at time of pregnancy event"
   ]
  },
  {
   "cell_type": "code",
   "execution_count": 139,
   "metadata": {
    "pycharm": {
     "name": "#%%\n"
    }
   },
   "outputs": [
    {
     "name": "stdout",
     "output_type": "stream",
     "text": [
      "[Error getting pregnancy event year!]\n",
      "INDEX (in Patients.csv): 178\n",
      "Age:50, PID: c1f8b0e0-8cc6-b597-0782-af5aeaca8d35, BIRTHYEAR: 1965, PREG YEAR: 2015, DESCRIPTION: Normal pregnancy\n",
      "[Error getting pregnancy event year!]\n",
      "INDEX (in Patients.csv): 179\n",
      "Age:50, PID: c1f8b0e0-8cc6-b597-0782-af5aeaca8d35, BIRTHYEAR: 1965, PREG YEAR: 2015, DESCRIPTION: Miscarriage in first trimester\n",
      "[Error getting pregnancy event year!]\n",
      "INDEX (in Patients.csv): 180\n",
      "Age:50, PID: c1f8b0e0-8cc6-b597-0782-af5aeaca8d35, BIRTHYEAR: 1965, PREG YEAR: 2015, DESCRIPTION: Fetus with unknown complication\n",
      "[Error getting pregnancy event year!]\n",
      "INDEX (in Patients.csv): 318\n",
      "Age:50, PID: 1df68939-bc8f-3828-e5d7-ecac03c92d28, BIRTHYEAR: 1967, PREG YEAR: 2017, DESCRIPTION: Normal pregnancy\n",
      "[Error getting pregnancy event year!]\n",
      "INDEX (in Patients.csv): 374\n",
      "Age:50, PID: 48a093fd-5832-6e0b-aafa-d4d8b2ff9446, BIRTHYEAR: 1929, PREG YEAR: 1979, DESCRIPTION: Normal pregnancy\n",
      "[Error getting pregnancy event year!]\n",
      "INDEX (in Patients.csv): 406\n",
      "Age:50, PID: 6efa976f-6c01-6927-b01f-649858efd2c5, BIRTHYEAR: 1955, PREG YEAR: 2005, DESCRIPTION: Miscarriage in first trimester\n",
      "[Error getting pregnancy event year!]\n",
      "INDEX (in Patients.csv): 446\n",
      "Age:50, PID: 61ed9c99-876f-ad3d-81d7-5d5e8d0bb9b9, BIRTHYEAR: 1970, PREG YEAR: 2020, DESCRIPTION: Normal pregnancy\n",
      "[Error getting pregnancy event year!]\n",
      "INDEX (in Patients.csv): 447\n",
      "Age:50, PID: 61ed9c99-876f-ad3d-81d7-5d5e8d0bb9b9, BIRTHYEAR: 1970, PREG YEAR: 2020, DESCRIPTION: Blighted ovum\n",
      "[Error getting pregnancy event year!]\n",
      "INDEX (in Patients.csv): 455\n",
      "Age:51, PID: c423186f-2fde-3c66-4fbd-daf008d7faf7, BIRTHYEAR: 1968, PREG YEAR: 2019, DESCRIPTION: Normal pregnancy\n",
      "[Error getting pregnancy event year!]\n",
      "INDEX (in Patients.csv): 456\n",
      "Age:51, PID: c423186f-2fde-3c66-4fbd-daf008d7faf7, BIRTHYEAR: 1968, PREG YEAR: 2019, DESCRIPTION: Fetus with unknown complication\n",
      "[Error getting pregnancy event year!]\n",
      "INDEX (in Patients.csv): 495\n",
      "Age:50, PID: c22bf12a-d5ce-9364-10d4-a6ebe8f1a54d, BIRTHYEAR: 1966, PREG YEAR: 2016, DESCRIPTION: Normal pregnancy\n",
      "[Error getting pregnancy event year!]\n",
      "INDEX (in Patients.csv): 502\n",
      "Age:50, PID: cef0a287-d510-aa77-0cb6-12924f6c0a69, BIRTHYEAR: 1910, PREG YEAR: 1960, DESCRIPTION: Miscarriage in first trimester\n",
      "[Error getting pregnancy event year!]\n",
      "INDEX (in Patients.csv): 503\n",
      "Age:51, PID: cef0a287-d510-aa77-0cb6-12924f6c0a69, BIRTHYEAR: 1910, PREG YEAR: 1961, DESCRIPTION: Tubal pregnancy\n",
      "[Error getting pregnancy event year!]\n",
      "INDEX (in Patients.csv): 588\n",
      "Age:106, PID: 4f5069aa-d45d-1257-f7d5-d8151a992142, BIRTHYEAR: 1914, PREG YEAR: 2020, DESCRIPTION: Fetus with unknown complication\n",
      "[Error getting pregnancy event year!]\n",
      "INDEX (in Patients.csv): 675\n",
      "Age:50, PID: 3315c493-2d97-2f18-ca2e-11805d2f6863, BIRTHYEAR: 1967, PREG YEAR: 2017, DESCRIPTION: Normal pregnancy\n",
      "[Error getting pregnancy event year!]\n",
      "INDEX (in Patients.csv): 676\n",
      "Age:50, PID: 3315c493-2d97-2f18-ca2e-11805d2f6863, BIRTHYEAR: 1967, PREG YEAR: 2017, DESCRIPTION: Miscarriage in first trimester\n",
      "[Error getting pregnancy event year!]\n",
      "INDEX (in Patients.csv): 677\n",
      "Age:50, PID: 3315c493-2d97-2f18-ca2e-11805d2f6863, BIRTHYEAR: 1967, PREG YEAR: 2017, DESCRIPTION: Fetus with unknown complication\n",
      "[Error getting pregnancy event year!]\n",
      "INDEX (in Patients.csv): 680\n",
      "Age:50, PID: 801309fb-6946-70dc-aad0-826ec84b0f7c, BIRTHYEAR: 1965, PREG YEAR: 2015, DESCRIPTION: Normal pregnancy\n",
      "[Error getting pregnancy event year!]\n",
      "INDEX (in Patients.csv): 681\n",
      "Age:50, PID: 801309fb-6946-70dc-aad0-826ec84b0f7c, BIRTHYEAR: 1965, PREG YEAR: 2015, DESCRIPTION: Fetus with unknown complication\n",
      "[Error getting pregnancy event year!]\n",
      "INDEX (in Patients.csv): 696\n",
      "Age:106, PID: 72712124-718f-992a-025c-46fb99e9ce9e, BIRTHYEAR: 1914, PREG YEAR: 2020, DESCRIPTION: Normal pregnancy\n",
      "[Error getting pregnancy event year!]\n",
      "INDEX (in Patients.csv): 721\n",
      "Age:50, PID: 7cc7c27f-be26-44b0-7347-88e1137a2b38, BIRTHYEAR: 1957, PREG YEAR: 2007, DESCRIPTION: Miscarriage in first trimester\n",
      "[Error getting pregnancy event year!]\n",
      "INDEX (in Patients.csv): 743\n",
      "Age:88, PID: ee55ee1b-0143-8097-f083-6258b5ecc4e7, BIRTHYEAR: 1932, PREG YEAR: 2020, DESCRIPTION: Normal pregnancy\n",
      "[Error getting pregnancy event year!]\n",
      "INDEX (in Patients.csv): 767\n",
      "Age:51, PID: 2002e070-acf7-8a49-cba5-16b7231dd1e0, BIRTHYEAR: 1962, PREG YEAR: 2013, DESCRIPTION: Normal pregnancy\n",
      "[Error getting pregnancy event year!]\n",
      "INDEX (in Patients.csv): 768\n",
      "Age:51, PID: 2002e070-acf7-8a49-cba5-16b7231dd1e0, BIRTHYEAR: 1962, PREG YEAR: 2013, DESCRIPTION: Preeclampsia\n",
      "[Error getting pregnancy event year!]\n",
      "INDEX (in Patients.csv): 796\n",
      "Age:51, PID: 76bb23b4-83fb-4e98-482f-1865d65412c8, BIRTHYEAR: 1959, PREG YEAR: 2010, DESCRIPTION: Miscarriage in first trimester\n",
      "[Error getting pregnancy event year!]\n",
      "INDEX (in Patients.csv): 827\n",
      "Age:86, PID: 92722163-978d-50d0-1a02-2c7cda7738d2, BIRTHYEAR: 1932, PREG YEAR: 2018, DESCRIPTION: Fetus with unknown complication\n",
      "[Error getting pregnancy event year!]\n",
      "INDEX (in Patients.csv): 829\n",
      "Age:50, PID: 8d8c2630-1cb5-60d3-4b5b-9a75bd2f0719, BIRTHYEAR: 1962, PREG YEAR: 2012, DESCRIPTION: Normal pregnancy\n",
      "[Error getting pregnancy event year!]\n",
      "INDEX (in Patients.csv): 830\n",
      "Age:55, PID: 8d8c2630-1cb5-60d3-4b5b-9a75bd2f0719, BIRTHYEAR: 1962, PREG YEAR: 2017, DESCRIPTION: Normal pregnancy\n",
      "[Error getting pregnancy event year!]\n",
      "INDEX (in Patients.csv): 851\n",
      "Age:51, PID: f17c3e07-fdcb-fbe1-e0fc-f0e80a6f4d32, BIRTHYEAR: 1964, PREG YEAR: 2015, DESCRIPTION: Normal pregnancy\n",
      "[Error getting pregnancy event year!]\n",
      "INDEX (in Patients.csv): 852\n",
      "Age:51, PID: f17c3e07-fdcb-fbe1-e0fc-f0e80a6f4d32, BIRTHYEAR: 1964, PREG YEAR: 2015, DESCRIPTION: Miscarriage in first trimester\n",
      "[Error getting pregnancy event year!]\n",
      "INDEX (in Patients.csv): 853\n",
      "Age:51, PID: f17c3e07-fdcb-fbe1-e0fc-f0e80a6f4d32, BIRTHYEAR: 1964, PREG YEAR: 2015, DESCRIPTION: Fetus with unknown complication\n",
      "[Error getting pregnancy event year!]\n",
      "INDEX (in Patients.csv): 914\n",
      "Age:51, PID: 24606454-b5e7-2a93-af64-f8b903d50f2d, BIRTHYEAR: 1966, PREG YEAR: 2017, DESCRIPTION: Normal pregnancy\n",
      "[Error getting pregnancy event year!]\n",
      "INDEX (in Patients.csv): 947\n",
      "Age:50, PID: 9af5b4ad-5ce0-8091-d8a1-108991224e25, BIRTHYEAR: 1970, PREG YEAR: 2020, DESCRIPTION: Normal pregnancy\n",
      "[Error getting pregnancy event year!]\n",
      "INDEX (in Patients.csv): 948\n",
      "Age:50, PID: 9af5b4ad-5ce0-8091-d8a1-108991224e25, BIRTHYEAR: 1970, PREG YEAR: 2020, DESCRIPTION: Blighted ovum\n",
      "[Error getting pregnancy event year!]\n",
      "INDEX (in Patients.csv): 1027\n",
      "Age:98, PID: ae6a328a-3156-0bf4-e697-b2070e474121, BIRTHYEAR: 1921, PREG YEAR: 2019, DESCRIPTION: Normal pregnancy\n",
      "[Error getting pregnancy event year!]\n",
      "INDEX (in Patients.csv): 1046\n",
      "Age:50, PID: ad377135-6a56-2885-38c1-a7981852af81, BIRTHYEAR: 1960, PREG YEAR: 2010, DESCRIPTION: Normal pregnancy\n",
      "[Error getting pregnancy event year!]\n",
      "INDEX (in Patients.csv): 1047\n",
      "Age:57, PID: ad377135-6a56-2885-38c1-a7981852af81, BIRTHYEAR: 1960, PREG YEAR: 2017, DESCRIPTION: Normal pregnancy\n",
      "[Error getting pregnancy event year!]\n",
      "INDEX (in Patients.csv): 1068\n",
      "Age:102, PID: a151cb16-2255-9dbc-4f3a-88fda3e0d010, BIRTHYEAR: 1912, PREG YEAR: 2014, DESCRIPTION: Normal pregnancy\n",
      "[Error getting pregnancy event year!]\n",
      "INDEX (in Patients.csv): 1072\n",
      "Age:50, PID: 17a43e7b-1530-90d3-55a8-43d77945dfa8, BIRTHYEAR: 1962, PREG YEAR: 2012, DESCRIPTION: Normal pregnancy\n",
      "[Error getting pregnancy event year!]\n",
      "INDEX (in Patients.csv): 1073\n",
      "Age:50, PID: 17a43e7b-1530-90d3-55a8-43d77945dfa8, BIRTHYEAR: 1962, PREG YEAR: 2012, DESCRIPTION: Miscarriage in first trimester\n",
      "[Error getting pregnancy event year!]\n",
      "INDEX (in Patients.csv): 1074\n",
      "Age:50, PID: 17a43e7b-1530-90d3-55a8-43d77945dfa8, BIRTHYEAR: 1962, PREG YEAR: 2012, DESCRIPTION: Blighted ovum\n",
      "[Error getting pregnancy event year!]\n",
      "INDEX (in Patients.csv): 1075\n",
      "Age:50, PID: 17a43e7b-1530-90d3-55a8-43d77945dfa8, BIRTHYEAR: 1962, PREG YEAR: 2012, DESCRIPTION: Normal pregnancy\n",
      "[Error getting pregnancy event year!]\n",
      "INDEX (in Patients.csv): 1076\n",
      "Age:50, PID: 17a43e7b-1530-90d3-55a8-43d77945dfa8, BIRTHYEAR: 1962, PREG YEAR: 2012, DESCRIPTION: Fetus with unknown complication\n",
      "[Error getting pregnancy event year!]\n",
      "INDEX (in Patients.csv): 1111\n",
      "Age:50, PID: 2c2e8110-a46c-a93a-aa14-17d9e53d088e, BIRTHYEAR: 1968, PREG YEAR: 2018, DESCRIPTION: Normal pregnancy\n",
      "[Error getting pregnancy event year!]\n",
      "INDEX (in Patients.csv): 1112\n",
      "Age:50, PID: 2c2e8110-a46c-a93a-aa14-17d9e53d088e, BIRTHYEAR: 1968, PREG YEAR: 2018, DESCRIPTION: Miscarriage in first trimester\n",
      "[Error getting pregnancy event year!]\n",
      "INDEX (in Patients.csv): 1113\n",
      "Age:50, PID: 2c2e8110-a46c-a93a-aa14-17d9e53d088e, BIRTHYEAR: 1968, PREG YEAR: 2018, DESCRIPTION: Blighted ovum\n",
      "[Error getting pregnancy event year!]\n",
      "INDEX (in Patients.csv): 1181\n",
      "Age:50, PID: 5ff3398f-f6e5-b215-2997-25757979420c, BIRTHYEAR: 1970, PREG YEAR: 2020, DESCRIPTION: Normal pregnancy\n",
      "[Error getting pregnancy event year!]\n",
      "INDEX (in Patients.csv): 1189\n",
      "Age:50, PID: 9557ead4-52ff-38f8-3adc-65f8908b40d0, BIRTHYEAR: 1964, PREG YEAR: 2014, DESCRIPTION: Normal pregnancy\n",
      "[Error getting pregnancy event year!]\n",
      "INDEX (in Patients.csv): 1243\n",
      "Age:62, PID: 0573e80a-f298-f3a0-1bd5-cc0d5dbe7edf, BIRTHYEAR: 1921, PREG YEAR: 1983, DESCRIPTION: Normal pregnancy\n",
      "[Error getting pregnancy event year!]\n",
      "INDEX (in Patients.csv): 1282\n",
      "Age:50, PID: 70327bb3-bd36-4554-2001-36d8e60d2655, BIRTHYEAR: 1921, PREG YEAR: 1971, DESCRIPTION: Normal pregnancy\n",
      "[Error getting pregnancy event year!]\n",
      "INDEX (in Patients.csv): 1283\n",
      "Age:50, PID: 70327bb3-bd36-4554-2001-36d8e60d2655, BIRTHYEAR: 1921, PREG YEAR: 1971, DESCRIPTION: Fetus with unknown complication\n",
      "[Error getting pregnancy event year!]\n",
      "INDEX (in Patients.csv): 1298\n",
      "Age:51, PID: e1abd409-1489-f5e6-ae45-ba999762424f, BIRTHYEAR: 1921, PREG YEAR: 1972, DESCRIPTION: Normal pregnancy\n",
      "[Error getting pregnancy event year!]\n",
      "INDEX (in Patients.csv): 1299\n",
      "Age:51, PID: e1abd409-1489-f5e6-ae45-ba999762424f, BIRTHYEAR: 1921, PREG YEAR: 1972, DESCRIPTION: Miscarriage in first trimester\n",
      "[Error getting pregnancy event year!]\n",
      "INDEX (in Patients.csv): 1300\n",
      "Age:51, PID: e1abd409-1489-f5e6-ae45-ba999762424f, BIRTHYEAR: 1921, PREG YEAR: 1972, DESCRIPTION: Fetus with unknown complication\n",
      "[Error getting pregnancy event year!]\n",
      "INDEX (in Patients.csv): 1342\n",
      "Age:50, PID: 20c5b743-776e-f8c7-13cb-61ff8ce60ce0, BIRTHYEAR: 1962, PREG YEAR: 2012, DESCRIPTION: Normal pregnancy\n",
      "[Error getting pregnancy event year!]\n",
      "INDEX (in Patients.csv): 1343\n",
      "Age:50, PID: 20c5b743-776e-f8c7-13cb-61ff8ce60ce0, BIRTHYEAR: 1962, PREG YEAR: 2012, DESCRIPTION: Fetus with unknown complication\n",
      "[Error getting pregnancy event year!]\n",
      "INDEX (in Patients.csv): 1351\n",
      "Age:66, PID: f355dfc2-1cd7-d87f-6c6f-de1b269c9f61, BIRTHYEAR: 1954, PREG YEAR: 2020, DESCRIPTION: Normal pregnancy\n",
      "[Error getting pregnancy event year!]\n",
      "INDEX (in Patients.csv): 1474\n",
      "Age:50, PID: 8c152820-212d-b73e-a075-3ac7b95e7307, BIRTHYEAR: 1967, PREG YEAR: 2017, DESCRIPTION: Normal pregnancy\n",
      "[Error getting pregnancy event year!]\n",
      "INDEX (in Patients.csv): 1564\n",
      "Age:50, PID: 29e525e2-44ad-4bba-eb3a-bca3048a3ae4, BIRTHYEAR: 1965, PREG YEAR: 2015, DESCRIPTION: Normal pregnancy\n",
      "[Error getting pregnancy event year!]\n",
      "INDEX (in Patients.csv): 1565\n",
      "Age:50, PID: 29e525e2-44ad-4bba-eb3a-bca3048a3ae4, BIRTHYEAR: 1965, PREG YEAR: 2015, DESCRIPTION: Miscarriage in first trimester\n",
      "[Error getting pregnancy event year!]\n",
      "INDEX (in Patients.csv): 1566\n",
      "Age:50, PID: 29e525e2-44ad-4bba-eb3a-bca3048a3ae4, BIRTHYEAR: 1965, PREG YEAR: 2015, DESCRIPTION: Fetus with unknown complication\n",
      "[Error getting pregnancy event year!]\n",
      "INDEX (in Patients.csv): 1567\n",
      "Age:50, PID: 29e525e2-44ad-4bba-eb3a-bca3048a3ae4, BIRTHYEAR: 1965, PREG YEAR: 2015, DESCRIPTION: Normal pregnancy\n"
     ]
    }
   ],
   "source": [
    "pregnancyYears = pregnancies['START'].array # from pregnancies <- conditions.csv\n",
    "pregnancyDescriptions = pregnancies['DESCRIPTION'].array\n",
    "birthYears = birth_dates['BIRTHDATE'].array # from patients.csv\n",
    "pregnancyIds = pregnancies['PATIENT'].to_numpy(dtype=str, copy=True) # from pregnancies df <- conditions.csv\n",
    "ageIDs = age_data['Id'].to_numpy(dtype=str, copy=True)# from agedata df <- patients.csv\n",
    "\n",
    "\n",
    "#truncate year from date string and cast to int for age calculation\n",
    "for i, d in enumerate(pregnancyYears):\n",
    "    pregnancyYears[i] = int(d[0:4])\n",
    "\n",
    "for i, j in enumerate(birthYears):\n",
    "    birthYears[i] = int(j[0:4])\n",
    "\n",
    "\n",
    "# Create empty array of approximate size we need, to hold the ages.\n",
    "ages = [0] * len(pregnancies)\n",
    "p = 0 #index in patients.csv\n",
    "c = 0 #index in conditions.csv, inner loop, pregnancyIds\n",
    "\n",
    "# age_data['Id'].to_clipboard(excel=True)\n",
    "\n",
    "# Acquire index of ageIDs after matching to pregnancyIds, this is the index in birthyears array, or year of birth for pt.\n",
    "# Then take the integer year of birth and subtract it from the integer year of the pregnancy event\n",
    "for i in ageIDs:\n",
    "    for j in pregnancyIds:\n",
    "         if i == j:\n",
    "             ages[c] = pregnancyYears[c] - birthYears[p]\n",
    "             # if ages[c] >= 50:\n",
    "             #    # Catch any patient over 50 having a pregnancy event, which is not supposed to happen in synthea.\n",
    "             #    print(\"[Error getting pregnancy event year!]\")\n",
    "             #    print(\"INDEX (in Patients.csv): \" + str(c))\n",
    "             #    print(\"Age:\" + str(ages[c]) + \", PID: \" + j + \", BIRTHYEAR: \" + str(birthYears[p]) + \", PREG YEAR: \" + str(pregnancyYears[c]) + \", DESCRIPTION: \" + pregnancyDescriptions[c])\n",
    "             #print(c)\n",
    "             c += 1\n",
    "\n",
    "    p += 1"
   ]
  },
  {
   "cell_type": "code",
   "execution_count": 96,
   "metadata": {
    "pycharm": {
     "name": "#%%\n"
    }
   },
   "outputs": [],
   "source": [
    "pregnancies['PATIENT'].to_clipboard(excel=True)\n",
    "\n"
   ]
  },
  {
   "cell_type": "markdown",
   "metadata": {
    "pycharm": {
     "name": "#%% md\n"
    }
   },
   "source": [
    "# Pregnancy totals by age\n",
    "Totals by age"
   ]
  },
  {
   "cell_type": "code",
   "execution_count": 97,
   "metadata": {
    "pycharm": {
     "name": "#%%\n"
    }
   },
   "outputs": [
    {
     "name": "stdout",
     "output_type": "stream",
     "text": [
      "[<= 15]: 20\n",
      "[<= 19]: 111\n",
      "[<= 24]: 302\n",
      "[<= 29]: 317\n",
      "[<= 34]: 316\n",
      "[<= 39]: 199\n",
      "[<= 44]: 121\n",
      "[<= 54]: 213\n",
      "[ERROR getting Pregnancy event year]: 23\n",
      "Pregnancies: \n",
      "1622\n",
      "Total number of patients (deceased + living): \n",
      "1152\n"
     ]
    }
   ],
   "source": [
    "# count of age ranges, editing this to closer mimic official NNCHS report age ranges\n",
    "# https://www.cdc.gov/nchs/data/vsrr/vsrr-8-508.pdf MINUS 10-14 as synthea starts pregnancy events\n",
    "# at age 14.\n",
    "pregnancies_15 = 0\n",
    "pregnancies_19 = 0\n",
    "pregnancies_24 = 0\n",
    "pregnancies_29 = 0\n",
    "pregnancies_34 = 0\n",
    "pregnancies_39 = 0\n",
    "pregnancies_44 = 0\n",
    "pregnancies_50 = 0\n",
    "erroneous = 0\n",
    "\n",
    "for a in ages:\n",
    "    if a <= 15:\n",
    "        pregnancies_15 += 1\n",
    "    elif a <= 19:\n",
    "        pregnancies_19 += 1\n",
    "    elif a <= 24:\n",
    "        pregnancies_24 += 1\n",
    "    elif a <= 29:\n",
    "        pregnancies_29 += 1\n",
    "    elif a <= 34:\n",
    "        pregnancies_34 += 1\n",
    "    elif a<= 39:\n",
    "        pregnancies_39 += 1\n",
    "    elif a<= 44:\n",
    "        pregnancies_44 += 1\n",
    "    elif a<= 50:\n",
    "        pregnancies_50 += 1\n",
    "    else:\n",
    "        #these are erroneously calculated ages\n",
    "        #creating short write up to explain further but for now we are discounting these.\n",
    "        #either problem lies with the jupyter notebook (likely) or synthea output (not likely)\n",
    "        erroneous += 1\n",
    "\n",
    "print(\"[<= 15]: \" + str(pregnancies_15))\n",
    "print(\"[<= 19]: \" + str(pregnancies_19))\n",
    "print(\"[<= 24]: \" + str(pregnancies_24))\n",
    "print(\"[<= 29]: \" + str(pregnancies_29))\n",
    "print(\"[<= 34]: \" + str(pregnancies_34))\n",
    "print(\"[<= 39]: \" + str(pregnancies_39))\n",
    "print(\"[<= 44]: \" + str(pregnancies_44))\n",
    "print(\"[<= 50]: \" + str(pregnancies_50))\n",
    "print(\"[ERROR getting Pregnancy event year]: \" + str(erroneous))\n",
    "\n",
    "print(\"Pregnancies: \")\n",
    "print(len(pregnancyIds))\n",
    "print(\"Total number of patients (deceased + living): \")\n",
    "print(len(ageIDs))\n"
   ]
  },
  {
   "cell_type": "markdown",
   "metadata": {
    "pycharm": {
     "name": "#%% md\n"
    }
   },
   "source": [
    "Pregnancies by age bar graph"
   ]
  },
  {
   "cell_type": "code",
   "execution_count": 98,
   "metadata": {
    "pycharm": {
     "name": "#%%\n"
    }
   },
   "outputs": [
    {
     "data": {
      "text/plain": "<Figure size 432x288 with 1 Axes>",
      "image/png": "[encoded data removed]"
     },
     "metadata": {
      "needs_background": "light"
     },
     "output_type": "display_data"
    }
   ],
   "source": [
    "xAxisLabels = ['<= 15', '<= 19', '<= 24', '<= 29', '<= 34', '<= 39', '<= 44', '<= 50']\n",
    "ages_of_women = [pregnancies_15, pregnancies_19, pregnancies_24, pregnancies_29, pregnancies_34, pregnancies_39,pregnancies_44, pregnancies_50]\n",
    "\n",
    "x = np.arange(len(xAxisLabels))  # the label locations\n",
    "width = 0.35  # the width of the bars\n",
    "\n",
    "fig, ax = plt.subplots()\n",
    "rects1 = ax.bar(x - width/2, ages_of_women, width)\n",
    "\n",
    "# Add some text for labels, title and custom x-axis tick labels, etc.\n",
    "ax.set_ylabel('Number of pregnancies per population')\n",
    "ax.set_title('Pregnancies by Age')\n",
    "ax.set_xticks(x)\n",
    "ax.set_xticklabels(xAxisLabels)\n",
    "\n",
    "\n",
    "def autolabel(rects):\n",
    "    \"\"\"Attach a text label above each bar in *rects*, displaying its height.\"\"\"\n",
    "    for rect in rects:\n",
    "        height = rect.get_height()\n",
    "        ax.annotate('{}'.format(height),\n",
    "                    xy=(rect.get_x() + rect.get_width() / 2, height),\n",
    "                    xytext=(0, 3),  # 3 points vertical offset\n",
    "                    textcoords=\"offset points\",\n",
    "                    ha='center', va='bottom')\n",
    "\n",
    "\n",
    "autolabel(rects1)\n",
    "fig.tight_layout()\n",
    "plt.show()"
   ]
  },
  {
   "cell_type": "code",
   "execution_count": 99,
   "metadata": {
    "pycharm": {
     "name": "#%%\n"
    }
   },
   "outputs": [
    {
     "name": "stderr",
     "output_type": "stream",
     "text": [
      "<ipython-input-99-bed113404a05>:7: MatplotlibDeprecationWarning: Using a string of single character colors as a color sequence is deprecated since 3.2 and will be removed two minor releases later. Use an explicit list instead.\n",
      "  plt.bar(pregnancy_types, pregnancy_numbers, color='bgrcmyk')\n"
     ]
    },
    {
     "data": {
      "text/plain": "<Figure size 432x288 with 1 Axes>",
      "image/png": "[encoded data removed]"
     },
     "metadata": {
      "needs_background": "light"
     },
     "output_type": "display_data"
    }
   ],
   "source": [
    "pregnancy_types = pregnancies['DESCRIPTION'].value_counts().keys()\n",
    "pregnancy_numbers = pregnancies['DESCRIPTION'].value_counts()\n",
    "\n",
    "plt.title(\"Types of Pregnancies\")\n",
    "plt.ylabel(\"Number of Pregnancies\")\n",
    "plt.xlabel(\"Pregnancy Descriptions\")\n",
    "plt.bar(pregnancy_types, pregnancy_numbers, color='bgrcmyk')\n",
    "plt.xticks(rotation=90)\n",
    "plt.show()\n"
   ]
  },
  {
   "cell_type": "code",
   "execution_count": null,
   "metadata": {
    "pycharm": {
     "name": "#%%\n"
    }
   },
   "outputs": [],
   "source": []
  }
 ],
 "metadata": {
  "kernelspec": {
   "display_name": "Python 3",
   "language": "python",
   "name": "python3"
  },
  "language_info": {
   "codemirror_mode": {
    "name": "ipython",
    "version": 3
   },
   "file_extension": ".py",
   "mimetype": "text/x-python",
   "name": "python",
   "nbconvert_exporter": "python",
   "pygments_lexer": "ipython3",
   "version": "3.8.5"
  }
 },
 "nbformat": 4,
 "nbformat_minor": 5
}